{
  "nbformat": 4,
  "nbformat_minor": 0,
  "metadata": {
    "colab": {
      "provenance": []
    },
    "kernelspec": {
      "name": "python3",
      "display_name": "Python 3"
    },
    "language_info": {
      "name": "python"
    }
  },
  "cells": [
    {
      "cell_type": "markdown",
      "source": [
        "#PYTHON OOPs THEORY QUESTIONS"
      ],
      "metadata": {
        "id": "jLFwyLTIhiko"
      }
    },
    {
      "cell_type": "markdown",
      "source": [
        "#1. What is Object-Oriented Programming (OOP)?\n",
        "   - OOP is a way of writing programs where we think in terms of objects, just like in the real world.\n",
        "\n",
        "👩‍🏫 4 Main Pillars of OOP:\n",
        "- Class = Recipe\n",
        "A class is like a recipe or a blueprint.\n",
        "\n",
        "- Object = Dish\n",
        "An object is what you get when you follow the recipe — a real car made from the class.\n",
        "\n",
        "- Encapsulation = Capsule\n",
        "Wrap everything inside one unit.\n",
        "\n",
        "- Inheritance = Getting Traits from Parents\n",
        "A child class can take features from a parent class.\n",
        "\n",
        "- Polymorphism = Many Forms\n",
        "Same action, different behavior\n",
        "\n",
        "- Abstraction = Hiding Complexity\n",
        "Show only what’s needed.\n",
        "\n",
        "#2. What is a class in OOP?\n",
        "   - A class is a blueprint or template used to create objects.\n",
        "    Just like a blueprint for a house, a class defines:\n",
        "    What attributes (data) an object will have.\n",
        "    What methods (functions/behaviors) an object can perform.\n",
        "\n",
        "    i)A class defines how an object should look and behave.\n",
        "\n",
        "    ii)An object is a real instance created from a class.\n",
        "\n",
        "    iii)Classes help in organizing code, making it modular, reusable, and logical.    \n",
        "\n",
        "#3. What is an object in OOP?\n",
        "   -  An object is a real-world entity created using a class.\n",
        "    It is an instance of a class, meaning it is made using the structure defined in that class.\n",
        "\n",
        "    i)A class is a blueprint (like a recipe or a plan).\n",
        "    \n",
        "    ii)An object is the actual item made from that blueprint.\n",
        "\n",
        "\n",
        "\n"
      ],
      "metadata": {
        "id": "pq_GrfdZiEZG"
      }
    },
    {
      "cell_type": "code",
      "source": [
        "class Person:\n",
        "    def __init__(self, name, age):\n",
        "        self.name = name\n",
        "        self.age = age\n",
        "\n",
        "# Create an object\n",
        "p1 = Person(\"Ayushi\", 22)  # p1 is an object of the Person class\n"
      ],
      "metadata": {
        "id": "f-QzxvWQo18U"
      },
      "execution_count": null,
      "outputs": []
    },
    {
      "cell_type": "code",
      "execution_count": null,
      "metadata": {
        "id": "Io0pFTusgx9G"
      },
      "outputs": [],
      "source": []
    },
    {
      "cell_type": "markdown",
      "source": [
        "#4. What is the difference between abstraction and encapsulation?\n",
        "   - ABSTRACTION = Hiding complex implementation details and showing only the essential features.\n",
        "    i)Focus on what an object does\n",
        "\n",
        "    ii)\tHides internal logic\n",
        "\n",
        "    iii)Using abstract classes or interfaces\n",
        "\n",
        "    iv)Using a TV remote – You press buttons but don’t know how it works inside\n",
        "    \n",
        "    v)Simplifies complexity for the user\n",
        "    \n",
        "  -ENCAPSULATION = Wrapping data and methods together into a single unit (class) and restricting access to some parts.\n",
        "    i)Focus on how data is protected from outside\n",
        "\n",
        "    ii)Hides internal data\n",
        "\n",
        "    iii)Using private/public/protected access modifiers\n",
        "\n",
        "    iv)A medicine capsule – Keeps the contents safe inside\n",
        "\n",
        "    v)Protects the object’s data and keeps it safe from misuse\n",
        "\n",
        "#5. What are dunder methods in Python?    \n",
        "    - Dunder methods are the methods defined by built in classes in python .\n",
        "    i)classes define these type of methods for creating custom objects\n",
        "    \n",
        "    ii)Implements operator overloading in python\n",
        "    \n",
        "    iii)d+under\n",
        "    \n",
        "    iv)double underscore >> all the methods surrounding double underscore is a Dander method\n",
        "\n",
        "    Dunder methods (also called magic methods or special methods) are built-in methods in Python that have double underscores (__) at the beginning and end of their names — hence the name \"dunder\" (short for Double UNDERscore).\n",
        "\n",
        "    They are used to customize the behavior of objects — like how they are created, represented, compared, or even added together.\n",
        "\n",
        "#6. Explain the concept of inheritance in OOPs.\n",
        "   - Inheritance is an OOP concept where a child class (derived class) inherits the properties and methods of a parent class (base class).\n",
        "\n",
        "    It allows code reuse, avoids repetition, and supports hierarchical classification, just like in real life (e.g., a Dog is an Animal).    \n",
        "    Real-Life Analogy:\n",
        "    Think of Human as a parent class:\n",
        "\n",
        "    Every child (like Student, Employee) inherits features like eyes, hands, brain from the Human class.\n",
        "\n",
        "    But each child can also have unique features (like roll number or salary).\n",
        "    \n",
        "    TYPES OF INHERITANCE:-\n",
        "    \n",
        "    I) single inheritance\n",
        "    \n",
        "    II) Multiple inheritance\n",
        "    \n",
        "    III) Multilevel inheritance\n",
        "    \n",
        "    IV) heirarchical inheritance\n",
        "    \n",
        "    V)Hybrid inheritance\n",
        "\n",
        "#7. What is polymorphism in OOPs?\n",
        "   - \"POLY\" means many and \"morphism\" means form/states.\n",
        "    It refers to an object taking several forms depending on the methods.\n",
        "    eg. len, func\n",
        "    Its observation is when func is taking different forms with respect to different data passed.\n",
        "\n",
        "    Polymorphism in OOPs takes place in two ways:-   \n",
        "    i)Mehthod overriding\n",
        "    \n",
        "    ii)Method overloading = python doesn't support true mehtod overloading. Student method is taking different forms, the last method overloads the previos one in same class.\n",
        "\n",
        "    Polymorphism means \"many forms\".\n",
        "\n",
        "    In OOP, polymorphism allows the same method name to behave differently depending on the object calling it.\n",
        "\n",
        "    Polymorphism allows different classes to use the same method name, but each class can give its own implementation of that method.\n",
        "\n",
        "#8. How is encapsulation achieved in Python?\n",
        "   - Encapsulation in Python is the process of binding data (attributes) and functions (methods) together into a single unit (class) and restricting direct access to some of the object’s components.\n",
        "\n",
        "    It helps protect internal data and ensures controlled access through getter and setter methods.\n",
        "\n",
        "    Encapsulation is achieved in Python using:\n",
        "\n",
        "    i)Classes = Bundle data and methods together\n",
        "\n",
        "    ii)Private = members\tUse double underscore __var to make variables/methods private\n",
        "\n",
        "    iii)Protected members = \tUse single underscore _var to indicate “protected” by convention\n",
        "\n",
        "    iv)Getters and Setters =\tProvide safe access and updates to private data\n",
        "\n",
        "    MAIN POINTS:-\n",
        "\n",
        "    I)Encapsulation protects the integrity of data.\n",
        "\n",
        "    ii)Direct access to variables is discouraged.\n",
        "\n",
        "    iii)Python doesn’t have true private access — but uses name mangling:\n",
        "    __age becomes _Student__age internally.\n",
        "\n",
        "#9. What is a constructor in Python?\n",
        "  -In Python, a constructor is a special method that is automatically called    when an object is created from a class.\n",
        "  Its main job is to initialize the object’s attributes.\n",
        "    \n",
        "    Constructor in Python: __init__() method\n",
        "    \n",
        "    i)Named as: __init__\n",
        "\n",
        "    ii)Starts and ends with double underscores (a dunder method)\n",
        "    \n",
        "    iii)Called automatically when you create an object of a class\n",
        "    Purpose of a Constructor:-\n",
        "\n",
        "    i)Automatically set up (initialize) object variables\n",
        "\n",
        "    ii)Avoid manual setup after object creation\n",
        "    \n",
        "    TYPES OF CONSTRUCTOR IN PYTHON:-\n",
        "\n",
        "    i)Default constructor = takes no parameters\n",
        "    \n",
        "    ii)Parametrized constructor = takes arguements to set initial values\n",
        "\n",
        "\n",
        "# 10. What are class and static methods in Python?\n",
        "     - Class Methods in Python (theory)\n",
        "    A class method is a method that is bound to the class and not the instance of the class.\n",
        "\n",
        "    It takes cls as its first parameter, which refers to the class itself, not the object.\n",
        "\n",
        "    It can access and modify class-level variables (shared by all instances).\n",
        "\n",
        "    It is defined using the @classmethod decorator.\n",
        " Key Points:\n",
        "    Used when a method needs to affect the class as a whole.\n",
        "\n",
        "    Can be used to create alternative constructors.\n",
        "\n",
        " Static Methods in Python (theory)\n",
        "    A static method is a method that is not bound to the class or its instances.\n",
        "\n",
        "    It does not take self or cls as its first parameter.\n",
        "\n",
        "    It is defined using the @staticmethod decorator.\n",
        "\n",
        "    It behaves like a regular function, but it is placed inside a class for logical grouping.\n",
        "\n",
        "Key Points:\n",
        "    Used when a method does not need to access or modify class or instance data.\n",
        "\n",
        "    Ideal for utility/helper functions related to the class but not dependent on it.\n",
        "\n",
        "\n",
        "#11. What is Mehtod Overloading in python ?\n",
        "     -Method Overloading is the ability to define multiple methods with the same name but with different numbers or types of arguments in the same class.\n",
        "\n",
        "    In many languages (like Java, C++), you can do this directly But in Python, method overloading is not supported in the traditional way.   \n",
        "\n",
        "    Python does not support multiple methods with the same name in a class.\n",
        "    If you define a method multiple times with the same name, the last one overrides the earlier ones.\n",
        "\n",
        "    So, How is Overloading Handled in Python?\n",
        "    Python handles method overloading by using:\n",
        "\n",
        "    i)Default arguments\n",
        "\n",
        "    ii)Variable-length arguments (*args, **kwargs)\n",
        "\n",
        "\n",
        "\n",
        "  \n",
        "\n",
        "\n",
        "\n",
        "\n"
      ],
      "metadata": {
        "id": "6R299VsFo7Vi"
      }
    },
    {
      "cell_type": "code",
      "source": [
        "class Greet:\n",
        "    def say_hello(self, name=None):\n",
        "        if name:\n",
        "            print(f\"Hello, {name}!\")\n",
        "        else:\n",
        "            print(\"Hello!\")\n",
        "\n",
        "g = Greet()\n",
        "g.say_hello()\n",
        "g.say_hello(\"Ayushi\")\n"
      ],
      "metadata": {
        "colab": {
          "base_uri": "https://localhost:8080/"
        },
        "id": "WFpS2pWK5JIJ",
        "outputId": "f7f7cb6a-f8f0-4611-813c-0a9d06e06fb4"
      },
      "execution_count": null,
      "outputs": [
        {
          "output_type": "stream",
          "name": "stdout",
          "text": [
            "Hello!\n",
            "Hello, Ayushi!\n"
          ]
        }
      ]
    },
    {
      "cell_type": "markdown",
      "source": [
        "# 12. What is method overriding in OOPs?\n",
        "     - Method Overriding is a feature in OOP where a child class provides a specific implementation of a method that is already defined in its parent class.\n",
        "\n",
        "    The method name, number of parameters, and signature remain the same, but the behavior changes.\n",
        "\n",
        "    This enables polymorphism, where the same method behaves differently for different objects.\n",
        "    Key Points:\n",
        "     \n",
        "    i)Must involve inheritance\n",
        "\n",
        "    ii)The method in the child class \"overrides\" the one in the parent class\n",
        "\n",
        "    iii)Allows the child class to customize or extend parent behavior\n",
        "\n",
        "\n",
        "\n"
      ],
      "metadata": {
        "id": "GzEjgvLm5dEG"
      }
    },
    {
      "cell_type": "code",
      "source": [
        "class Animal:\n",
        "    def speak(self):\n",
        "        print(\"Animal speaks\")\n",
        "\n",
        "class Dog(Animal):\n",
        "    def speak(self):  # Method overriding\n",
        "        print(\"Dog barks\")\n",
        "\n",
        "d = Dog()\n",
        "d.speak()\n"
      ],
      "metadata": {
        "colab": {
          "base_uri": "https://localhost:8080/"
        },
        "id": "jhGAdkwI5G5Y",
        "outputId": "ff58bd2e-f7bf-4ceb-de8a-3a8ab4b24472"
      },
      "execution_count": null,
      "outputs": [
        {
          "output_type": "stream",
          "name": "stdout",
          "text": [
            "Dog barks\n"
          ]
        }
      ]
    },
    {
      "cell_type": "markdown",
      "source": [
        "# 13. What is a property decorator in Python?\n",
        "      - The @property decorator in Python is used to define a method as a \"read-only\" attribute.\n",
        "    i)It allows you to access methods like attributes, without needing parentheses ().\n",
        "\n",
        "    ii)This is part of encapsulation, providing controlled access to private data.\n",
        "\n",
        "    Why Use @property?\n",
        "\n",
        "    i)To hide internal implementation from the user\n",
        "\n",
        "    ii)To allow computed or controlled values to be accessed like attributes\n",
        "\n",
        "    iii)To support getter, setter, deleter functions in a clean and readable way  "
      ],
      "metadata": {
        "id": "1RnxFLZp6Fbq"
      }
    },
    {
      "cell_type": "code",
      "source": [
        "#example of property decorator\n",
        "class Circle:\n",
        "    def __init__(self, radius):\n",
        "        self._radius = radius\n",
        "\n",
        "    @property\n",
        "    def area(self):\n",
        "        return 3.14 * self._radius ** 2\n",
        "\n",
        "c = Circle(5)\n",
        "print(c.area)\n"
      ],
      "metadata": {
        "colab": {
          "base_uri": "https://localhost:8080/"
        },
        "id": "gQOUncVnr23h",
        "outputId": "821707e7-5b30-4397-ce43-a8534ea240f1"
      },
      "execution_count": null,
      "outputs": [
        {
          "output_type": "stream",
          "name": "stdout",
          "text": [
            "78.5\n"
          ]
        }
      ]
    },
    {
      "cell_type": "markdown",
      "source": [
        "# 14 . Why is Polymorphism Important in OOP?\n",
        "     - Polymorphism allows objects of different classes to be treated as objects of a common superclass, especially when they share a common interface (like having the same method name).\n",
        "     \n",
        "      Importance of Polymorphism:\n",
        "    i)Code Flexibility: You can write code that works on objects of different types.\n",
        "    \n",
        "    ii)Reusability: Common interfaces mean fewer changes when new classes are added.\n",
        "\n",
        "    iii)Extensibility: Easily extend a system by adding new behaviors without changing existing code.\n",
        "    \n",
        "    iv)Clean Code: Avoids long if-else chains or type-checking conditions.\n",
        "\n",
        "    Example: A function make_sound(animal) can work with Dog, Cat, or Bird as long as each has a make_sound() method — no need to write separate functions.\n",
        "\n",
        "# 15.  What is an Abstract Class in Python?\n",
        "    -An abstract class is a class that cannot be instantiated and is designed to be inherited by subclasses.\n",
        "\n",
        "    It may contain one or more abstract methods, which are declared but not implemented in the base class.\n",
        "\n",
        "    Key Points:\n",
        "    i)Defined using the abc module (abstract base class)\n",
        "\n",
        "    ii)Use @abstractmethod decorator to define abstract methods\n",
        "\n",
        "    iii)Forces child classes to implement these methods\n",
        "\n",
        "    Syntax Example:\n",
        "   from abc import ABC, abstractmethod\n",
        "\n",
        "class Animal(ABC):\n",
        "    @abstractmethod\n",
        "    def make_sound(self):\n",
        "        pass\n",
        "Animal is an abstract class.\n",
        "\n",
        "    Any subclass must implement make_sound() to be instantiated.\n",
        "\n",
        "    Purpose:\n",
        "    i)Define a common interface\n",
        "\n",
        "    ii)Enforce method implementation in child classes\n",
        "\n",
        "    iii)Enable polymorphism and design consistency\n",
        "\n",
        "\n",
        "# 16. What Are the Advantages of OOP?\n",
        "     -Object-Oriented Programming (OOP) provides a structured and logical approach to program design by modeling software based on real-world objects.\n",
        "\n",
        "    Major Advantages:\n",
        "    i)Modularity\n",
        "\n",
        "    ii)Code is organized into classes, making it easier to manage and debug.\n",
        "\n",
        "    iii)Reusability (via Inheritance)\n",
        "\n",
        "    iv)Reuse code from existing classes to create new ones.\n",
        "\n",
        "    v)Encapsulation\n",
        "\n",
        "    vi)Protects data by keeping it private and exposing only what’s necessary.\n",
        "\n",
        "    vii)Polymorphism\n",
        "\n",
        "    viii)Write general code that works with different types of objects.\n",
        "\n",
        "    ix) Abstraction\n",
        "\n",
        "    x)Hides complex logic and shows only essential features.\n",
        "\n",
        "    xi)Scalability and Maintainability\n",
        "\n",
        "    xii)Easy to update, extend, or maintain large codebases.\n",
        "\n",
        "    xiii)Improved Collaboration\n",
        "\n",
        "    Classes and objects allow multiple developers to work independently on different parts of a program.\n",
        "\n",
        "# 17. What is the difference between a class variable and an instance variable?    \n",
        "      -In Object-Oriented Programming (OOP), especially in Python, both class variables and instance variables are used to store data, but they differ in scope and usage.\n",
        "\n",
        "    Class Variable:\n",
        "    i)A class variable is shared among all instances of a class.\n",
        "\n",
        "    ii)It is defined inside the class, but outside any method.\n",
        "\n",
        "    iii)Changing its value affects all objects of the class (unless overridden at the instance level).\n",
        "\n",
        "    Instance Variable:\n",
        "    i)An instance variable is unique to each object (instance).\n",
        "\n",
        "    ii)It is usually defined inside the constructor (__init__ method) using self.\n",
        "\n",
        "    iii)Each object has its own copy of instance variables."
      ],
      "metadata": {
        "id": "O7jQ6xvQ6tzF"
      }
    },
    {
      "cell_type": "code",
      "source": [
        "class Student:\n",
        "    school_name = \"ABC School\"  # Class variable\n",
        "\n",
        "    def __init__(self, name):\n",
        "        self.name = name        # Instance variable\n"
      ],
      "metadata": {
        "id": "CtspjN2z9V6n"
      },
      "execution_count": null,
      "outputs": []
    },
    {
      "cell_type": "markdown",
      "source": [
        "# 18. What is Multiple Inheritance in Python?\n",
        "    -Definition:\n",
        "    Multiple Inheritance is a feature in OOP where a class can inherit from more than one parent class.\n",
        "\n",
        "    Python supports multiple inheritance, allowing a child class to access the properties and methods of multiple base classes.\n",
        "\n",
        "    Syntax:\n",
        "python\n",
        "Copy\n",
        "Edit\n",
        "class A:\n",
        "    pass\n",
        "\n",
        "class B:\n",
        "    pass\n",
        "\n",
        "class C(A, B):  # C inherits from A and B\n",
        "    pass\n",
        "\n",
        "    Advantages of Multiple Inheritance:\n",
        "\n",
        "    i)Allows combining features from different classes\n",
        "\n",
        "    ii)Promotes code reuse and modular design\n",
        "\n",
        "    Potential Issues:\n",
        "    i)Can lead to complex method resolution (e.g., if both parents have methods with the same name)\n",
        "\n",
        "    ii)Python uses MRO (Method Resolution Order) to resolve such conflicts\n",
        "\n",
        "    Real-World Analogy:\n",
        "    i)A Smartphone class could inherit from:\n",
        "\n",
        "    ii)A Camera class\n",
        "\n",
        "    iii)A Phone class\n",
        "    This gives it features of both, like taking pictures and making calls.\n",
        "\n",
        "# 19. Explain the purpose of ‘’__str__’ and ‘__repr__’ ‘ methods in Python.\n",
        "   - In Python, both __str__() and __repr__() are dunder (double underscore)  methods used to define string representations of an object.\n",
        "    They help control how your objects look when printed or inspected.\n",
        "\n",
        "    __str__() – For Readable Output (User-Friendly)\n",
        "    Purpose:\n",
        "    i)Defines the \"informal\" or human-readable string representation of an object.\n",
        "\n",
        "    ii)Used by the built-in print() function and str().\n",
        "\n",
        "    When is it used?\n",
        "    i)When you do: print(object)\n",
        "\n",
        "    ii)Or: str(object)\n",
        "\n",
        "    __repr__() – For Debugging/Development (Official String)\n",
        "   \n",
        "    Purpose:\n",
        "\n",
        "    i)Defines the \"formal\" or developer-friendly representation of an object.\n",
        "\n",
        "    ii)Goal: Provide a string that could be used to recreate the object if passed to eval().\n",
        "\n",
        "    When is it used?\n",
        "    i)When you type the object name in the console\n",
        "\n",
        "    ii)Or: repr(object)\n",
        "\n",
        "\n",
        "#20. What is the significance of the ‘super()’ function in Python?\n",
        "    - The super() function is used to call a method from the parent (or superclass) inside a subclass.\n",
        "    It’s especially useful in inheritance, allowing access to the parent class's methods without explicitly naming it.\n",
        "\n",
        "    Key Uses:\n",
        "    i)Call the parent class’s constructor (__init__)\n",
        "\n",
        "    ii)Access overridden methods in a clean and maintainable way\n",
        "\n",
        "    iii)Supports multiple inheritance using Python’s MRO (Method Resolution Order)\n",
        "\n",
        "    Why it's important:\n",
        "    i)Promotes code reuse\n",
        "\n",
        "    ii)helps in maintaining cleaner subclass definitions\n",
        "\n",
        "    iii)Useful in cooperative multiple inheritance scenarios\n",
        "\n",
        "\n",
        "# 21. What is the significance of the __del__ method in Python?\n",
        "     - The __del__() method is a destructor in Python.\n",
        "    It is automatically called when an object is about to be destroyed (usually when there are no more references to it).\n",
        "\n",
        "    Purpose:\n",
        "    i)Used to perform cleanup actions like:\n",
        "\n",
        "    ii)Closing files\n",
        "\n",
        "    iii)Releasing network connections\n",
        "\n",
        "    iv)Freeing external resources\n",
        "\n",
        "    Notes:\n",
        "    i)Python’s garbage collector decides when to call __del__().\n",
        "\n",
        "    Use it carefully, as timing is not guaranteed.\n",
        "\n",
        "\n",
        "#22 . What is the difference between @staticmethod and @classmethod in Python?\n",
        "     - In Python, both @staticmethod and @classmethod are decorators used to define methods that are not instance methods, but they serve different purposes and behave differently.\n",
        "\n",
        "    A @staticmethod is a method that does not take self or cls as its first argument. It behaves like a regular function but is placed inside a class for organizational purposes. Since it has no access to the class (cls) or instance (self), it cannot access or modify class or instance attributes. For example, a method that performs a simple calculation or formatting can be made a static method.\n",
        "\n",
        "    On the other hand, a @classmethod takes cls (the class itself) as its first parameter, instead of self. This allows it to access or modify class-level variables and methods. For instance, if you're keeping track of the number of instances created, you could use a class method to update and access that count.\n",
        "\n",
        "    In summary, use @staticmethod when the method does not need to know anything about the class or instance, and use @classmethod when the method needs to know about the class but not a specific object.\n",
        "\n",
        "\n",
        "# 23.  How does polymorphism work in Python with inheritance?\n",
        "      - In Python, polymorphism allows different classes to define methods with the same name, and Python automatically determines which version to call based on the object.\n",
        "\n",
        "    Works with:\n",
        "    i)Method overriding (same method name in parent and child)\n",
        "\n",
        "    ii)Duck typing (if it “quacks like a duck…” — works as long as method exists)\n",
        "\n",
        "    With Inheritance:\n",
        "    i)Subclasses can override methods of the parent.\n",
        "\n",
        "    ii)When a method is called on an object, Python looks for the method in that class first — if not found, it checks the parent class.\n",
        "\n",
        "\n",
        "#24. What is method chaining in Python OOPs?\n",
        "     - Method chaining is a programming technique in Python where multiple methods are called on the same object in a single line, one after the other. This is done by having each method return the object itself (self), so the next method can be called directly on it.\n",
        "\n",
        "    How It Works:\n",
        "    In a class, if a method modifies the object and then returns self, it allows you to call another method on that same object without writing it on a new line.\n",
        "\n",
        "    Why Use Method Chaining?\n",
        "    i)Improves code readability by reducing repetition.\n",
        "\n",
        "    ii)Helps in building fluent interfaces (used in libraries like Pandas or Django ORM).\n",
        "\n",
        "    iii)Useful when applying a sequence of modifications to the same object.This leads to cleaner, more readable, and fluent code.\n",
        "\n",
        "\n",
        "#25. What is the purpose of the __call__ method in Python?\n",
        "     - The __call__() method allows an object to be called like a function.\n",
        "    When you use obj(), Python executes obj.__call__().\n",
        "\n",
        "    Purpose:\n",
        "    i)Makes objects behave like functions\n",
        "\n",
        "    Useful for:\n",
        "\n",
        "    i)Function wrappers\n",
        "\n",
        "    ii)Stateful callbacks\n",
        "\n",
        "    iii)Building decorators\n",
        "\n",
        "    iv)Creating flexible interfaces\n",
        "\n",
        "    In Python, everything is an object — including functions. Normally, we use functions like func(), where func is callable. The __call__() method gives you the ability to make instances of a class callable just like functions.\n",
        "\n",
        "    If a class defines a __call__() method, then its object can be called using parentheses, and Python will internally execute the __call__() method.\n",
        "\n",
        "    Imagine an object is a person, and you define a special way for them to respond when you \"call\" their name. If you implement __call__(), you're saying:\n",
        "\n",
        "    \"When someone uses parentheses with me, this is how I should behave.\"\n",
        "\n",
        "    So, the object becomes both a thing (data) and a doer (functionality).\n",
        "\n"
      ],
      "metadata": {
        "id": "wUSvqJLw9Zgt"
      }
    },
    {
      "cell_type": "markdown",
      "source": [
        "# PYTHON OOPs PRACTICAL QUESTIONS\n"
      ],
      "metadata": {
        "id": "GC1XpQidCplX"
      }
    },
    {
      "cell_type": "markdown",
      "source": [
        "#1. Create a parent class Animal with a method speak() that prints a generic message. Create a child class Dog that overrides the speak() method to print \"Bark!\"."
      ],
      "metadata": {
        "id": "_IwGnO4kC5rG"
      }
    },
    {
      "cell_type": "code",
      "source": [
        "class animal:\n",
        "    def speak(self):\n",
        "        print(\"Animal speaks\")\n",
        "\n",
        "class Dog(animal):\n",
        "    def speak(self):\n",
        "        print(\"Dog barks\")\n",
        "\n",
        "d = Dog()\n",
        "d.speak()"
      ],
      "metadata": {
        "colab": {
          "base_uri": "https://localhost:8080/"
        },
        "id": "7NDwFrZL6rhn",
        "outputId": "258a2c0b-fc6a-4c46-a651-f8895b387c20"
      },
      "execution_count": null,
      "outputs": [
        {
          "output_type": "stream",
          "name": "stdout",
          "text": [
            "Dog barks\n"
          ]
        }
      ]
    },
    {
      "cell_type": "markdown",
      "source": [
        "#2.  Write a program to create an abstract class Shape with a method area(). Derive classes Circle and Rectangle from it and implement the area() method in both."
      ],
      "metadata": {
        "id": "rp818EPgHB06"
      }
    },
    {
      "cell_type": "code",
      "source": [
        "import abc\n",
        "class shape:\n",
        "\n",
        "  @abc.abstractmethod\n",
        "  def area_of_circle(self):\n",
        "    pass\n",
        "\n",
        "  @abc.abstractmethod\n",
        "  def area_of_rectangle(self):\n",
        "    pass"
      ],
      "metadata": {
        "id": "evdEFZ6POBv-"
      },
      "execution_count": 8,
      "outputs": []
    },
    {
      "cell_type": "code",
      "source": [
        "class Shape(shape):\n",
        "  def area_of_circle(self,r):\n",
        "    return 3.14*r*r\n",
        "\n",
        "  def area_of_rectangle(self,l,b):\n",
        "    return l*b"
      ],
      "metadata": {
        "id": "5bl4Kdl2UEBS"
      },
      "execution_count": 9,
      "outputs": []
    },
    {
      "cell_type": "code",
      "source": [
        "Ss = Shape()\n",
        "Ss.area_of_circle(5)"
      ],
      "metadata": {
        "colab": {
          "base_uri": "https://localhost:8080/"
        },
        "id": "B6cgmGLMUiqC",
        "outputId": "29fd3603-5f90-4dc1-963b-db11b9232556"
      },
      "execution_count": 15,
      "outputs": [
        {
          "output_type": "execute_result",
          "data": {
            "text/plain": [
              "78.5"
            ]
          },
          "metadata": {},
          "execution_count": 15
        }
      ]
    },
    {
      "cell_type": "code",
      "source": [
        "Ss.area_of_rectangle(2,3)"
      ],
      "metadata": {
        "colab": {
          "base_uri": "https://localhost:8080/"
        },
        "id": "MA6QEs6zUuX-",
        "outputId": "9efafde8-6e27-4166-9658-55164de819f9"
      },
      "execution_count": 13,
      "outputs": [
        {
          "output_type": "execute_result",
          "data": {
            "text/plain": [
              "6"
            ]
          },
          "metadata": {},
          "execution_count": 13
        }
      ]
    },
    {
      "cell_type": "markdown",
      "source": [
        "#3.  Implement a multi-level inheritance scenario where a class Vehicle has an attribute type. Derive a class Car and further derive a class ElectricCar that adds a battery attribute."
      ],
      "metadata": {
        "id": "My13_-RVVOxR"
      }
    },
    {
      "cell_type": "code",
      "source": [
        "class vehicle:\n",
        "  def vehicle_info(self):\n",
        "    print(\"this the vehicle info\")\n",
        "\n",
        "class car(vehicle):\n",
        "   def car_details(self):\n",
        "    print(\"this car has awesome speed\")\n",
        "\n",
        "class ElectricCar(car):\n",
        "  def ElectricCar_details(self):\n",
        "    print(\"ElectricCar are very safe to use\")"
      ],
      "metadata": {
        "id": "snGusb8KU28X"
      },
      "execution_count": 26,
      "outputs": []
    },
    {
      "cell_type": "code",
      "source": [
        "s1=ElectricCar()\n",
        "s1.car_details()"
      ],
      "metadata": {
        "colab": {
          "base_uri": "https://localhost:8080/"
        },
        "id": "dThGV0wjWnlB",
        "outputId": "da693b2d-e59e-4c11-86f7-3c678a1142f9"
      },
      "execution_count": 29,
      "outputs": [
        {
          "output_type": "stream",
          "name": "stdout",
          "text": [
            "this car has awesome speed\n"
          ]
        }
      ]
    },
    {
      "cell_type": "markdown",
      "source": [
        "# 4. Demonstrate polymorphism by creating a base class Bird with a method fly(). Create two derived classes Sparrow and Penguin that override the fly() method.\n"
      ],
      "metadata": {
        "id": "7Qo5rN-yZpT3"
      }
    },
    {
      "cell_type": "code",
      "source": [
        "class Bird:\n",
        "  def fly(self):\n",
        "    print(\"bird is flying in the sky \")\n",
        "\n",
        "class Sparrow(Bird):\n",
        "  def fly(self):\n",
        "    print(\"sparrow can also fly\")\n",
        "\n",
        "class Penguin(Bird):\n",
        "  def fly(self):\n",
        "    print(\"penguins can't fly\")\n",
        "\n",
        "def bird_flight(bird_obj):\n",
        "  bird_obj.fly()"
      ],
      "metadata": {
        "id": "dwtP4co8ZNBN"
      },
      "execution_count": 30,
      "outputs": []
    },
    {
      "cell_type": "code",
      "source": [
        "sp=Sparrow()\n",
        "pen=Penguin()\n"
      ],
      "metadata": {
        "id": "vLj4KsUUbSn6"
      },
      "execution_count": 34,
      "outputs": []
    },
    {
      "cell_type": "code",
      "source": [
        "sp.fly()"
      ],
      "metadata": {
        "colab": {
          "base_uri": "https://localhost:8080/"
        },
        "id": "6F3fS_g8bk5n",
        "outputId": "8e74d97a-9a8e-4eb5-8718-b8f71ec09e0b"
      },
      "execution_count": 36,
      "outputs": [
        {
          "output_type": "stream",
          "name": "stdout",
          "text": [
            "sparrow can also fly\n"
          ]
        }
      ]
    },
    {
      "cell_type": "code",
      "source": [
        "pen.fly()"
      ],
      "metadata": {
        "colab": {
          "base_uri": "https://localhost:8080/"
        },
        "id": "msvYN-xccKG7",
        "outputId": "47501e7b-cacc-46e9-9cd1-a5df8a8d23c5"
      },
      "execution_count": 38,
      "outputs": [
        {
          "output_type": "stream",
          "name": "stdout",
          "text": [
            "penguins can't fly\n"
          ]
        }
      ]
    },
    {
      "cell_type": "markdown",
      "source": [
        "#5. Write a program to demonstrate encapsulation by creating a class BankAccount with private attributes balance and methods to deposit, withdraw, and check balance."
      ],
      "metadata": {
        "id": "q33eo2bbcQ1E"
      }
    },
    {
      "cell_type": "code",
      "source": [
        "class BankAccount:\n",
        "    def __init__(self, balance=0):\n",
        "        self.__balance = balance\n",
        "\n",
        "    def deposit(self, amount):\n",
        "      if amount>0:\n",
        "        self.__balance += amount\n",
        "        print(f\"Deposited: ₹{amount}\")\n",
        "\n",
        "    def withdraw(self,amount):\n",
        "      if 0 < amount <= self.__balance:\n",
        "        self.__balance -= amount\n",
        "        print(f\"Withdrew: ₹{amount}\")\n",
        "      else:\n",
        "        print(\"Insufficient funds\")\n",
        "\n",
        "    def check_balance(self):\n",
        "        return self.__balance\n",
        ""
      ],
      "metadata": {
        "id": "HEfX9l1bcNvf"
      },
      "execution_count": 46,
      "outputs": []
    },
    {
      "cell_type": "code",
      "source": [
        "BA=BankAccount()"
      ],
      "metadata": {
        "id": "s-n8Kyt8ie6x"
      },
      "execution_count": 47,
      "outputs": []
    },
    {
      "cell_type": "code",
      "source": [
        "BA.deposit(5000)\n"
      ],
      "metadata": {
        "colab": {
          "base_uri": "https://localhost:8080/"
        },
        "id": "AVcNhh6iivEz",
        "outputId": "0f9aa649-de01-4f5e-9e76-0fe309d6880a"
      },
      "execution_count": 48,
      "outputs": [
        {
          "output_type": "stream",
          "name": "stdout",
          "text": [
            "Deposited: ₹5000\n"
          ]
        }
      ]
    },
    {
      "cell_type": "code",
      "source": [
        "BA.check_balance()"
      ],
      "metadata": {
        "colab": {
          "base_uri": "https://localhost:8080/"
        },
        "id": "X8pmhJZ-iyEI",
        "outputId": "9387bd81-bf14-4408-f629-772ca812939b"
      },
      "execution_count": 49,
      "outputs": [
        {
          "output_type": "execute_result",
          "data": {
            "text/plain": [
              "5000"
            ]
          },
          "metadata": {},
          "execution_count": 49
        }
      ]
    },
    {
      "cell_type": "code",
      "source": [
        "BA.withdraw(2000)"
      ],
      "metadata": {
        "colab": {
          "base_uri": "https://localhost:8080/"
        },
        "id": "31wmsU0Ji8OD",
        "outputId": "8ac4c96d-978f-4374-d62b-0f2585471bcc"
      },
      "execution_count": 50,
      "outputs": [
        {
          "output_type": "stream",
          "name": "stdout",
          "text": [
            "Withdrew: ₹2000\n"
          ]
        }
      ]
    },
    {
      "cell_type": "code",
      "source": [
        "BA.check_balance()"
      ],
      "metadata": {
        "colab": {
          "base_uri": "https://localhost:8080/"
        },
        "id": "QJEg-Hyrj76A",
        "outputId": "771f9e25-3f6e-4599-cc16-318309a8a407"
      },
      "execution_count": 51,
      "outputs": [
        {
          "output_type": "execute_result",
          "data": {
            "text/plain": [
              "3000"
            ]
          },
          "metadata": {},
          "execution_count": 51
        }
      ]
    },
    {
      "cell_type": "markdown",
      "source": [
        "#6. Demonstrate runtime polymorphism using a method play() in a base class Instrument. Derive classes Guitar and Piano that implement their own version of play()."
      ],
      "metadata": {
        "id": "tRFXEGSlkDrK"
      }
    },
    {
      "cell_type": "code",
      "source": [
        "class instrument:\n",
        "  def play(self):\n",
        "    print(\"play the instruments \")\n",
        "\n",
        "class Guitar(instrument):\n",
        "  def play(self):\n",
        "    print(\"guitar has a string version of notes\")\n",
        "\n",
        "class Piano(instrument):\n",
        "  def play(self):\n",
        "    print(\"piano has a keyboard version of notes\")\n",
        "\n",
        "def instu_notes(instru_obj):\n",
        "  instru_obj.play()"
      ],
      "metadata": {
        "id": "ycauN9-kkASr"
      },
      "execution_count": 52,
      "outputs": []
    },
    {
      "cell_type": "code",
      "source": [
        "gui=Guitar()\n",
        "gui.play()"
      ],
      "metadata": {
        "colab": {
          "base_uri": "https://localhost:8080/"
        },
        "id": "LJWNvarAk-UT",
        "outputId": "a571af28-2f97-42bc-cfef-5f6f8f990199"
      },
      "execution_count": 53,
      "outputs": [
        {
          "output_type": "stream",
          "name": "stdout",
          "text": [
            "guitar has a string version of notes\n"
          ]
        }
      ]
    },
    {
      "cell_type": "code",
      "source": [
        "pia=Piano()\n",
        "pia.play()"
      ],
      "metadata": {
        "colab": {
          "base_uri": "https://localhost:8080/"
        },
        "id": "ComKSNptlNcC",
        "outputId": "25b7444e-60b9-4cfc-b232-da83f855aaf4"
      },
      "execution_count": 55,
      "outputs": [
        {
          "output_type": "stream",
          "name": "stdout",
          "text": [
            "piano has a keyboard version of notes\n"
          ]
        }
      ]
    },
    {
      "cell_type": "markdown",
      "source": [
        "# 7. Create a class MathOperations with a class method add_numbers() to add two numbers and a static method subtract_numbers() to subtract two numbers."
      ],
      "metadata": {
        "id": "DC1zUnWpllGM"
      }
    },
    {
      "cell_type": "code",
      "source": [
        "class MathOperations:\n",
        "  # Class method\n",
        "    @classmethod\n",
        "    def add_numbers(cls, a, b):\n",
        "        return a + b\n",
        "\n",
        "    # Static method\n",
        "    @staticmethod\n",
        "    def subtract_numbers(a, b):\n",
        "        return a - b\n",
        "sum_result = MathOperations.add_numbers(10, 5)\n",
        "diff_result = MathOperations.subtract_numbers(10, 5)"
      ],
      "metadata": {
        "id": "aLsfQsd-liv5"
      },
      "execution_count": 57,
      "outputs": []
    },
    {
      "cell_type": "code",
      "source": [
        "print(\"Sum:\", sum_result)\n",
        "print(\"Difference:\", diff_result)"
      ],
      "metadata": {
        "colab": {
          "base_uri": "https://localhost:8080/"
        },
        "id": "eo1dE1RVrGRo",
        "outputId": "dff8e414-b10d-44c0-aca0-5491cf7295d9"
      },
      "execution_count": 58,
      "outputs": [
        {
          "output_type": "stream",
          "name": "stdout",
          "text": [
            "Sum: 15\n",
            "Difference: 5\n"
          ]
        }
      ]
    },
    {
      "cell_type": "markdown",
      "source": [
        "#8. Implement a class Person with a class method to count the total number of persons created."
      ],
      "metadata": {
        "id": "xk7Sj09hwb-1"
      }
    },
    {
      "cell_type": "code",
      "source": [
        "class person:\n",
        "  count=0\n",
        "\n",
        "  def __init__(self,name):\n",
        "    self.name=name\n",
        "    person.count+= 1\n",
        "\n",
        "  @classmethod\n",
        "  def total_person(cls):\n",
        "    return cls.count\n"
      ],
      "metadata": {
        "id": "CSD3gRgxrKtJ"
      },
      "execution_count": 66,
      "outputs": []
    },
    {
      "cell_type": "code",
      "source": [
        "p1 = person(\"ayushi\")\n",
        "p2= person(\"anshika\")"
      ],
      "metadata": {
        "id": "8WH7cHlbyEoX"
      },
      "execution_count": 67,
      "outputs": []
    },
    {
      "cell_type": "code",
      "source": [
        "print(person.total_person())"
      ],
      "metadata": {
        "colab": {
          "base_uri": "https://localhost:8080/"
        },
        "id": "1T5Js1IAyOnJ",
        "outputId": "5fa32764-93ec-409b-ae66-630e1fd13c80"
      },
      "execution_count": 68,
      "outputs": [
        {
          "output_type": "stream",
          "name": "stdout",
          "text": [
            "2\n"
          ]
        }
      ]
    },
    {
      "cell_type": "markdown",
      "source": [
        "#9.Write a class Fraction with attributes numerator and denominator. Override the str method to display the fraction as \"numerator/denominator\"."
      ],
      "metadata": {
        "id": "mfCjqyZ4ypTd"
      }
    },
    {
      "cell_type": "code",
      "source": [
        "class Fraction:\n",
        "    def __init__(self, numerator, denominator):\n",
        "        self.numerator = numerator\n",
        "        self.denominator = denominator\n",
        "\n",
        "    def __str__(self):\n",
        "        return f\"{self.numerator}/{self.denominator}\""
      ],
      "metadata": {
        "id": "4Jue0paiyZSo"
      },
      "execution_count": 69,
      "outputs": []
    },
    {
      "cell_type": "code",
      "source": [
        "f1 = Fraction(4,6)"
      ],
      "metadata": {
        "id": "yu8vGICuy3wd"
      },
      "execution_count": 71,
      "outputs": []
    },
    {
      "cell_type": "code",
      "source": [
        "print(f1)"
      ],
      "metadata": {
        "colab": {
          "base_uri": "https://localhost:8080/"
        },
        "id": "Q8pGBz-izI6E",
        "outputId": "f1d61eab-272d-4197-8b7e-2fcdc2782cc6"
      },
      "execution_count": 72,
      "outputs": [
        {
          "output_type": "stream",
          "name": "stdout",
          "text": [
            "4/6\n"
          ]
        }
      ]
    },
    {
      "cell_type": "markdown",
      "source": [
        "#10. Demonstrate operator overloading by creating a class Vector and overriding the add method to add two vectors.\n"
      ],
      "metadata": {
        "id": "zwCsbNYwzPsr"
      }
    },
    {
      "cell_type": "code",
      "source": [
        "class Vector:\n",
        "  def __init__(self,x,y):\n",
        "    self.x=x\n",
        "    self.y=y\n",
        "\n",
        "  def __add__(self,other):\n",
        "    return Vector(self.x+other.x,self.y+other.y)\n",
        "\n",
        "  def __str__(self):\n",
        "        return f\"({self.x}, {self.y})\"\n"
      ],
      "metadata": {
        "id": "bf4Oh9fQzNeC"
      },
      "execution_count": 76,
      "outputs": []
    },
    {
      "cell_type": "code",
      "source": [
        "v1= Vector(4,5)\n",
        "v2 = Vector(2,3)\n",
        "v3 = v1+v2"
      ],
      "metadata": {
        "id": "xDgCpm-Lz4eH"
      },
      "execution_count": 83,
      "outputs": []
    },
    {
      "cell_type": "code",
      "source": [
        "print(v3)"
      ],
      "metadata": {
        "colab": {
          "base_uri": "https://localhost:8080/"
        },
        "id": "Vr9a8B6Yz8VO",
        "outputId": "cee4a61e-3b18-4afa-b74d-9c961bbd6b0b"
      },
      "execution_count": 84,
      "outputs": [
        {
          "output_type": "stream",
          "name": "stdout",
          "text": [
            "(6, 8)\n"
          ]
        }
      ]
    },
    {
      "cell_type": "markdown",
      "source": [
        "#11. Create a class Person with attributes name and age. Add a method greet() that prints \"Hello, my name is {name} and I am {age} years old.\"\n",
        "\n",
        "\n"
      ],
      "metadata": {
        "id": "FWzdrbAG0fN1"
      }
    },
    {
      "cell_type": "code",
      "source": [
        "class person:\n",
        "  def __init__(self,name,age):\n",
        "    self.name=name\n",
        "    self.age=age\n",
        "\n",
        "  def my_name(self):\n",
        "    print(f\"Hello, my name is {self.name} and I am {self.age} years old.\")"
      ],
      "metadata": {
        "id": "MvTsUGOUz93Q"
      },
      "execution_count": 85,
      "outputs": []
    },
    {
      "cell_type": "code",
      "source": [
        "p1=person(\"ayushi\",20)\n",
        "p1.my_name()"
      ],
      "metadata": {
        "colab": {
          "base_uri": "https://localhost:8080/"
        },
        "id": "qZEyFWnO1B_7",
        "outputId": "a0140098-a6e1-42ca-b5e5-dee61ffe5066"
      },
      "execution_count": 96,
      "outputs": [
        {
          "output_type": "stream",
          "name": "stdout",
          "text": [
            "Hello, my name is ayushi and I am 20 years old.\n"
          ]
        }
      ]
    },
    {
      "cell_type": "markdown",
      "source": [
        "#12.  Implement a class Student with attributes name and grades. Create a method average_grade() to compute the average of the grades."
      ],
      "metadata": {
        "id": "RC8Sq5xy11Ig"
      }
    },
    {
      "cell_type": "code",
      "source": [
        "class Student:\n",
        "  def __init__(self,name,grades):\n",
        "    self.name=name\n",
        "    self.grades=grades\n",
        "\n",
        "  def average_grades(self):\n",
        "    return sum(self.grades)/len(self.grades)"
      ],
      "metadata": {
        "id": "9LrUs6PB1HOu"
      },
      "execution_count": 97,
      "outputs": []
    },
    {
      "cell_type": "code",
      "source": [
        "avg = Student(\"ayushi\",[90,80,70])\n",
        "avg.grades"
      ],
      "metadata": {
        "colab": {
          "base_uri": "https://localhost:8080/"
        },
        "id": "jh9qfohs2duB",
        "outputId": "58e8776a-0812-4c7a-ed66-b7e663083db2"
      },
      "execution_count": 98,
      "outputs": [
        {
          "output_type": "execute_result",
          "data": {
            "text/plain": [
              "[90, 80, 70]"
            ]
          },
          "metadata": {},
          "execution_count": 98
        }
      ]
    },
    {
      "cell_type": "code",
      "source": [
        "avg.average_grades()"
      ],
      "metadata": {
        "colab": {
          "base_uri": "https://localhost:8080/"
        },
        "id": "JjGejG842pr3",
        "outputId": "f738215a-691e-43dd-f59c-0f5ed8a291e0"
      },
      "execution_count": 99,
      "outputs": [
        {
          "output_type": "execute_result",
          "data": {
            "text/plain": [
              "80.0"
            ]
          },
          "metadata": {},
          "execution_count": 99
        }
      ]
    },
    {
      "cell_type": "markdown",
      "source": [
        "#13. Create a class Rectangle with methods set_dimensions() to set the dimensions and area() to calculate the area."
      ],
      "metadata": {
        "id": "CNKiXgnj2u2U"
      }
    },
    {
      "cell_type": "code",
      "source": [
        "class Rectangle:\n",
        "  def __init__(self,length,width):\n",
        "    self.length=length\n",
        "    self.width=width\n",
        "\n",
        "  def set_dimensions(self,length,width):\n",
        "    self.length=length\n",
        "    self.width=width\n",
        "\n",
        "  def area(self):\n",
        "    return self.length*self.width\n",
        ""
      ],
      "metadata": {
        "id": "AkFvKjLs2r51"
      },
      "execution_count": 100,
      "outputs": []
    },
    {
      "cell_type": "code",
      "source": [
        "ar = Rectangle(4,5)\n",
        "ar.area()"
      ],
      "metadata": {
        "colab": {
          "base_uri": "https://localhost:8080/"
        },
        "id": "1w8SWgps3ZMB",
        "outputId": "38659f67-cc99-4021-d0cd-17c6439c70f8"
      },
      "execution_count": 101,
      "outputs": [
        {
          "output_type": "execute_result",
          "data": {
            "text/plain": [
              "20"
            ]
          },
          "metadata": {},
          "execution_count": 101
        }
      ]
    },
    {
      "cell_type": "markdown",
      "source": [
        "#14.  Create a class Employee with a method calculate_salary() that computes the salary based on hours worked and hourly rate. Create a derived class Manager that adds a bonus to the salary."
      ],
      "metadata": {
        "id": "7lMHJUyG3d61"
      }
    },
    {
      "cell_type": "code",
      "source": [
        "class Employee:\n",
        "    def __init__(self, name, hours_worked, hourly_rate):\n",
        "        self.name = name\n",
        "        self.hours_worked = hours_worked\n",
        "        self.hourly_rate = hourly_rate\n",
        "\n",
        "    def calculate_salary(self):\n",
        "      return self.hours_worked*self.hourly_rate\n",
        "\n",
        "class Manager(Employee):\n",
        "    def __init__(self, name, hours_worked, hourly_rate, bonus):\n",
        "      super().__init__(name, hours_worked, hourly_rate)\n",
        "      self.bonus = bonus\n",
        "\n",
        "    def calculate_salary(self):\n",
        "        base_salary = super().calculate_salary()\n",
        "        return base_salary + self.bonus"
      ],
      "metadata": {
        "id": "ctjsEiQn3cBt"
      },
      "execution_count": 102,
      "outputs": []
    },
    {
      "cell_type": "code",
      "source": [
        "emp = Employee(\"ayushi\",40,50)\n",
        "emp.calculate_salary()"
      ],
      "metadata": {
        "colab": {
          "base_uri": "https://localhost:8080/"
        },
        "id": "qpBRu6ew5S54",
        "outputId": "aa2e580b-68c4-4988-ca71-ca28f9544d8d"
      },
      "execution_count": 103,
      "outputs": [
        {
          "output_type": "execute_result",
          "data": {
            "text/plain": [
              "2000"
            ]
          },
          "metadata": {},
          "execution_count": 103
        }
      ]
    },
    {
      "cell_type": "markdown",
      "source": [
        "# 15.  Create a class Product with attributes name, price, and quantity. Implement a method total_price() that. calculates the total price of the product."
      ],
      "metadata": {
        "id": "6QrBaAjO6Txs"
      }
    },
    {
      "cell_type": "code",
      "source": [
        "class Product:\n",
        "  def __init__(self,name,price,quantity):\n",
        "    self.name=name\n",
        "    self.price=price\n",
        "    self.quantity=quantity\n",
        "\n",
        "  def total_price(self):\n",
        "    return self.price*self.quantity\n",
        "\n",
        "  def calculate_total_price(self):\n",
        "      print(f\"The total price of {self.quantity} {self.name}(s) at ₹{self.price} each is ₹{self.total_price()}.\")"
      ],
      "metadata": {
        "id": "TUXWe-oR5Y6s"
      },
      "execution_count": 104,
      "outputs": []
    },
    {
      "cell_type": "code",
      "source": [
        "p1 = Product(\"cellphone\", 50000, 2)\n",
        "p2 = Product(\"Phone\", 15000, 3)"
      ],
      "metadata": {
        "id": "u_yHqCLr8FWt"
      },
      "execution_count": 109,
      "outputs": []
    },
    {
      "cell_type": "code",
      "source": [
        "p1.calculate_total_price()"
      ],
      "metadata": {
        "colab": {
          "base_uri": "https://localhost:8080/"
        },
        "id": "eN-VqnFw8G6C",
        "outputId": "85f4dfc6-0ec1-41ef-f8cd-c8d3a4ec7c59"
      },
      "execution_count": 110,
      "outputs": [
        {
          "output_type": "stream",
          "name": "stdout",
          "text": [
            "The total price of 2 cellphone(s) at ₹50000 each is ₹100000.\n"
          ]
        }
      ]
    },
    {
      "cell_type": "markdown",
      "source": [
        "#16. Create a class Animal with an abstract method sound(). Create two derived classes Cow and Sheep that implement the sound() method."
      ],
      "metadata": {
        "id": "YmJXcFC88VAh"
      }
    },
    {
      "cell_type": "code",
      "source": [
        "class Animal:\n",
        "  def sound(self):\n",
        "    pass\n",
        "\n",
        "class Cow(Animal):\n",
        "  def sound(self):\n",
        "    print(\"Moo!\")\n",
        "\n",
        "class Sheep(Animal):\n",
        "  def sound(self):\n",
        "    print(\"Baa!\")"
      ],
      "metadata": {
        "id": "L-dBytMV8J_q"
      },
      "execution_count": 111,
      "outputs": []
    },
    {
      "cell_type": "code",
      "source": [
        "soun = Cow()\n",
        "soun.sound()"
      ],
      "metadata": {
        "colab": {
          "base_uri": "https://localhost:8080/"
        },
        "id": "_vq6mRhu8iOy",
        "outputId": "151c626f-7bd1-4398-e9a4-d1a2ed0c6e2b"
      },
      "execution_count": 112,
      "outputs": [
        {
          "output_type": "stream",
          "name": "stdout",
          "text": [
            "Moo!\n"
          ]
        }
      ]
    },
    {
      "cell_type": "markdown",
      "source": [
        "# 17. Create a class Book with attributes title, author, and year_published. Add a method get_book_info() that returns a formatted string with the book's details."
      ],
      "metadata": {
        "id": "bgFyHfP58mT3"
      }
    },
    {
      "cell_type": "code",
      "source": [
        "class Book:\n",
        "  def __init__(self,title,author,year_published):\n",
        "    self.title=title\n",
        "    self.author=author\n",
        "    self.year_published=year_published\n",
        "\n",
        "  def get_book_info(self):\n",
        "    return f\"Title: {self.title}\\nAuthor: {self.author}\\nYear Published: {self.year_published}\""
      ],
      "metadata": {
        "id": "tnlq99978kNk"
      },
      "execution_count": 113,
      "outputs": []
    },
    {
      "cell_type": "code",
      "source": [
        "B1 = Book(\"The Alchemist\", \"Paulo Coelho\", 1988)\n",
        "B1.get_book_info()"
      ],
      "metadata": {
        "colab": {
          "base_uri": "https://localhost:8080/",
          "height": 36
        },
        "id": "buqoiB5C9PpJ",
        "outputId": "4168d761-bc7f-44f8-c027-f0ccfc027148"
      },
      "execution_count": 116,
      "outputs": [
        {
          "output_type": "execute_result",
          "data": {
            "text/plain": [
              "'Title: The Alchemist\\nAuthor: Paulo Coelho\\nYear Published: 1988'"
            ],
            "application/vnd.google.colaboratory.intrinsic+json": {
              "type": "string"
            }
          },
          "metadata": {},
          "execution_count": 116
        }
      ]
    },
    {
      "cell_type": "markdown",
      "source": [
        "# 18. Create a class House with attributes address and price. Create a derived class Mansion that adds an attribute number_of_rooms."
      ],
      "metadata": {
        "id": "YNmDmd5B91en"
      }
    },
    {
      "cell_type": "code",
      "source": [
        "class House:\n",
        "  def __init__(self,address,price):\n",
        "    self.address=address\n",
        "    self.price=price\n",
        "\n",
        "class Mansion(House):\n",
        "  def __init__(self,address,price,number_of_rooms):\n",
        "    super().__init__(address,price)"
      ],
      "metadata": {
        "id": "3bFJ5_1j9R_O"
      },
      "execution_count": 117,
      "outputs": []
    },
    {
      "cell_type": "code",
      "source": [
        "H1= Mansion(\"Mannat\", 25000000, 8)\n",
        "H1.address"
      ],
      "metadata": {
        "colab": {
          "base_uri": "https://localhost:8080/",
          "height": 36
        },
        "id": "DNlqdrqt-Eta",
        "outputId": "cbf8f916-2386-4bcb-b333-50ed6934ecaf"
      },
      "execution_count": 120,
      "outputs": [
        {
          "output_type": "execute_result",
          "data": {
            "text/plain": [
              "'Mannat'"
            ],
            "application/vnd.google.colaboratory.intrinsic+json": {
              "type": "string"
            }
          },
          "metadata": {},
          "execution_count": 120
        }
      ]
    },
    {
      "cell_type": "code",
      "source": [
        "H1.price"
      ],
      "metadata": {
        "colab": {
          "base_uri": "https://localhost:8080/"
        },
        "id": "258UV_zA-KkN",
        "outputId": "802a63f1-0043-49f4-c103-23303980148e"
      },
      "execution_count": 121,
      "outputs": [
        {
          "output_type": "execute_result",
          "data": {
            "text/plain": [
              "25000000"
            ]
          },
          "metadata": {},
          "execution_count": 121
        }
      ]
    }
  ]
}