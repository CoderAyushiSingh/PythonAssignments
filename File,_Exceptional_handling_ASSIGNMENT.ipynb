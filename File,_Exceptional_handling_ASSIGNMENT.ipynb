{
  "nbformat": 4,
  "nbformat_minor": 0,
  "metadata": {
    "colab": {
      "provenance": []
    },
    "kernelspec": {
      "name": "python3",
      "display_name": "Python 3"
    },
    "language_info": {
      "name": "python"
    }
  },
  "cells": [
    {
      "cell_type": "markdown",
      "source": [
        "# FILE HANDLING >>ASSIGNMENT"
      ],
      "metadata": {
        "id": "Q9-_Cf7e2gv0"
      }
    },
    {
      "cell_type": "markdown",
      "source": [
        "#1. What is the difference between interpreted and compiled languages?\n",
        "\n",
        "  - Compiled Languages:\n",
        "    Definition: In compiled languages, the entire code is translated into machine code before execution by a compiler.\n",
        "    Examples: C, C++, Rust, Go, Swift\n",
        "    Key Features:\n",
        "    \n",
        "    i)Faster execution after compilation\n",
        "    \n",
        "    ii)Needs to be compiled each time the code is changed\n",
        "    \n",
        "    iii)Produces a separate executable file (e.g., .exe)\n",
        "    \n",
        "    iv)Harder to debug sometimes, as errors are shown all at once\n",
        "\n",
        "\n",
        "  Interpreted Languages:\n",
        "    Definition: In interpreted languages, the code is translated line-by-line at runtime by an interpreter.\n",
        "    Examples: Python, JavaScript, Ruby, PHP\n",
        "    Key Features:\n",
        "    \n",
        "  i)Slower than compiled languages (since code is executed line by line)\n",
        "    \n",
        "  ii)Easier to debug (errors shown one by one)\n",
        "    \n",
        "  iii)No separate executable is created\n",
        "    \n",
        "  iv)Good for scripting, automation, and rapid development\n",
        "\n",
        "#2. What is exception handling in Python?\n",
        "\n",
        "   - An exception is an error that occurs during the execution of a program, such as:\n",
        "    i)Dividing by zero → ZeroDivisionError\n",
        "    \n",
        "    ii)Accessing a file that doesn’t exist → FileNotFoundError\n",
        "    \n",
        "    iii)Using a wrong data type → TypeError\n",
        "\n",
        "    Why Use Exception Handling?\n",
        "    \n",
        "    i)To prevent your program from crashing\n",
        "    \n",
        "    ii)To control what happens when errors occur\n",
        "    \n",
        "    iii)To write cleaner and more reliable code\n",
        "\n",
        "#3. What is the purpose of the finally block in exception handling?\n",
        "\n",
        "  --The finally block is used to execute code no matter what — whether an exception occurred or not.\n",
        "\n",
        "Main Purpose:\n",
        "i)To clean up resources like:\n",
        "\n",
        "ii)Closing files\n",
        "\n",
        "iii)Closing database connections\n",
        "\n",
        "iv)Releasing memory or network resources\n",
        "\n",
        "v)Ensures that important cleanup code always runs, even if there was an error or the program exited early. Even if the file is not found and the except block runs, the finally block will still run and try to close the file (which may itself raise an error if file wasn't opened — be careful!).\n",
        "\n",
        " finally runs even if there's no except block and the error is unhandled (though the program crashes after that).\n",
        "\n",
        "#4.  What is logging in Python?\n",
        "\n",
        "  --Logging in Python means recording messages that describe what the program is doing while it runs. It helps track the flow, catch errors, and debug issues — especially in large or long-running programs.\n",
        "\n",
        "  Why Use Logging?\n",
        "i)To track events while your program runs\n",
        "\n",
        "ii)To record errors, warnings, and debug info\n",
        "\n",
        "iii)To save logs to a file for later review\n",
        "\n",
        "iv)Better than using print() statements — more controlled and configurable\n",
        "\n",
        " Python’s Built-in logging Module\n",
        "Python provides the logging module to create logs at different levels of importance.\n",
        "\n",
        "Real-World Uses:\n",
        "i)Tracking login attempts in a web app\n",
        "\n",
        "ii)Monitoring file uploads/downloads\n",
        "\n",
        "iii)Debugging complex algorithms\n",
        "\n",
        "iv)Logging errors in production code\n",
        "\n",
        "#5. What is the significance of the __del__ method in Python?\n",
        "\n",
        "   -- The __del__() method in Python is a destructor method — it is automatically called when an object is about to be destroyed (i.e., when it is garbage collected).\n",
        "\n",
        " Purpose / Significance:\n",
        "\n",
        "i)Used to clean up resources (files, network connections, memory, etc.)\n",
        "\n",
        "ii)Runs just before Python deletes the object from memory\n",
        "\n",
        "iii)Helpful when you need to perform final cleanup actions\n",
        "\n",
        "When Is __del__() Called?\n",
        "\n",
        "i)When an object’s reference count becomes zero (no variable is pointing to it).\n",
        "\n",
        "ii)Or, when del obj is used explicitly (which reduces reference count).\n",
        "\n",
        "iii)Or, automatically by Python’s garbage collector when cleaning memory.\n",
        "\n",
        "#6. What is the difference between import and from ... import in Python?\n",
        "\n",
        "   -- Both are used to bring external code (modules/functions/classes) into your Python program — but they behave differently.In Python, both import and from ... import statements are used to include external modules or parts of modules in a program. However, they differ in terms of how they bring code into the current namespace.\n",
        "\n",
        "🔹 import Statement\n",
        "\n",
        " The import statement is used to import an entire module into the program.\n",
        "\n",
        "It does not copy individual functions, classes, or variables into the current namespace. Instead, it provides access to the module as a whole unit using its name.\n",
        "\n",
        "Effect:\n",
        "\n",
        "The entire module is loaded.\n",
        "\n",
        "To access any function or class, the module name must be used as a prefix.\n",
        "\n",
        "from ... import Statement>>\n",
        "The from ... import statement is used to import specific attributes (functions, classes, variables) directly from a module into the current namespace.\n",
        "\n",
        "Effect:\n",
        "\n",
        "Only the specified items are imported.\n",
        "\n",
        "They can be used without prefixing the module name.\n",
        "\n",
        "#7. How can you handle multiple exceptions in Python?\n",
        "\n",
        "   -- How to Handle Multiple Exceptions in Python\n",
        "In Python, you can handle multiple exceptions using either:\n",
        "\n",
        "Multiple except blocks\n",
        "\n",
        "Single except block with multiple exception types\n",
        "\n",
        "Generic exception handling (Exception) — with care\n",
        "\n",
        " 1. Multiple except Blocks >>\n",
        "You can write separate except blocks for different exception types.\n",
        "\n",
        "2. Single except Block for Multiple Exceptions >>\n",
        "You can handle multiple exceptions in one block using a tuple.\n",
        "\n",
        "3. Using a Generic Exception Block >>\n",
        "You can use a general exception block to catch any error.\n",
        "\n",
        "Optional: else and finally\n",
        "You can combine try-except with else and finally for complete control:\n",
        "\n",
        "#8.  What is the purpose of the with statement when handling files in Python?\n",
        "\n",
        "  -- The with statement in Python is used when working with files to simplify file handling and ensure that resources are properly managed, especially file closing.\n",
        "\n",
        "  Purpose of the with statement:\n",
        "i)Automatically manages resources (like opening and closing files).\n",
        "\n",
        "ii)Ensures the file is closed properly even if an exception occurs while working with it.\n",
        "\n",
        "iii)Makes code cleaner and more readable.\n",
        "\n",
        "The with statement is used for safe and efficient file handling.It reduces chances of resource leaks.It improves code readability and error handling.he with statement in Python is used to wrap the execution of a block of code with methods defined by a context manager.\n",
        "\n",
        "When applied to file handling, it is used to ensure that a file is properly opened and then automatically closed after its suite finishes execution, even if exceptions are raised during the execution of the block.\n",
        "\n",
        "#9. What is the difference between multithreading and multiprocessing?\n",
        "\n",
        "   -- MULTITHREADING =\n",
        "   \n",
        "   i)It uses multiple threads within a single process.\n",
        "   \n",
        "   ii) it is lightweight\n",
        "\n",
        "   iii)limited by the global interpreter lock in pyhton\n",
        "\n",
        "   iv)lower overhead as threads share resources\n",
        "\n",
        "   v)less stable is threads interfere with shared data\n",
        "\n",
        "   --MULTIPROCESSING=\n",
        "   \n",
        "   i)It uses multiple processes each with its own python interpreter.\n",
        "\n",
        "   ii)Each process has its own memory space.\n",
        "\n",
        "   iii)heavyweight\n",
        "\n",
        "   iv)bypass GIL : can run in tru parallelism\n",
        "\n",
        "   v) more stable as processes are isolated\n",
        "\n",
        "\n",
        "#10. What are the advantages of using logging in a program?\n",
        "\n",
        "   -- Advantages of Using Logging in a Program\n",
        "i)Error Tracking and Debugging ==\n",
        "\n",
        " Logging helps developers record error messages, warnings, and exceptions, making it easier to identify and fix bugs.\n",
        "\n",
        "ii)Monitoring Program Execution ==\n",
        "\n",
        "It provides a detailed record of what the program is doing, which helps in understanding the flow of execution and identifying unexpected behavior.\n",
        "\n",
        "iii)Improved Maintainability ==\n",
        "\n",
        "With proper logs, future developers (or the same developer later) can understand the program's history and diagnose issues without needing to reproduce them.\n",
        "\n",
        "iv)Persistence of Information ==\n",
        "\n",
        "Unlike print() statements, logs can be stored in files, databases, or external systems for long-term analysis and auditing.\n",
        "\n",
        "v)Flexible and Configurable ==\n",
        "\n",
        "Python's logging module supports different log levels (DEBUG, INFO, WARNING, ERROR, CRITICAL) and can be configured to show only relevant information.\n",
        "\n",
        "vi)Separation from Standard Output ==\n",
        "\n",
        "Logs are kept separate from standard output (console prints), keeping user-facing output clean and uncluttered.\n",
        "\n",
        "vii)Helps in Production Environments ==\n",
        "\n",
        "In real-time or deployed systems, logging is crucial for monitoring system health, performance, and identifying failures without interrupting services.\n",
        "\n",
        "\n",
        "#11. What is memory management in Python?\n",
        "\n",
        "  -- Memory management in Python refers to the internal process of allocating, tracking, and freeing memory used by variables, objects, and data structures during the execution of a program. Python handles memory automatically using built-in systems.\n",
        "\n",
        "  A)Private Heap Space\n",
        "\n",
        "    i)All Python objects and data are stored in a private heap.\n",
        "\n",
        "    ii)This heap is managed internally by Python and not directly accessible to programmers.\n",
        "\n",
        "  B)Memory Manager\n",
        "\n",
        "    i)It controls allocation of memory to different variables and data structures.\n",
        "\n",
        "    ii)It handles requests for memory blocks and keeps track of what’s in use.\n",
        "\n",
        "  C)Object-Specific Allocators\n",
        "\n",
        "    i)Python has customized memory allocators for different object types like integers, lists, dictionaries, etc.\n",
        "\n",
        "  D)Reference Counting\n",
        "\n",
        "    i)Each object in Python maintains a count of references to it.\n",
        "\n",
        "    ii)When the count becomes zero (i.e., no references exist), the memory is marked for release.\n",
        "\n",
        "  E)Garbage Collection\n",
        "\n",
        "    i)Python’s garbage collector cleans up memory by removing objects that are no longer accessible, especially those involved in circular references.\n",
        "\n",
        "#12.  What are the basic steps involved in exception handling in Python?\n",
        "\n",
        "  -- Exception handling in Python is a structured way to handle runtime errors or unexpected conditions during program execution, so the program doesn't crash.\n",
        "\n",
        "  - Basic Steps in Exception Handling:\n",
        "\n",
        "     i)try Block\n",
        "      - Place the code that might raise an exception inside the try block.\n",
        "\n",
        "      - Python monitors this block for errors during execution.\n",
        "\n",
        "     ii)except Block\n",
        "        - If an exception occurs in the try block, control moves to the except block.\n",
        "\n",
        "        - This block contains the code to handle the error.\n",
        "\n",
        "     iii)else Block\n",
        "        - This block runs only if no exception occurs in the try block.\n",
        "\n",
        "        - It's used to write code that should run when everything goes smoothly.\n",
        "\n",
        "      iv)finally Block\n",
        "         - This block is executed no matter what – whether an exception occurs or not.\n",
        "\n",
        "         - It's usually used to clean up resources, like closing files or connections.  \n",
        "\n",
        "#13. Why is memory management important in Python?\n",
        "\n",
        "   -- Memory management is a critical part of any programming language, including Python, because it ensures that programs use memory efficiently, safely, and reliably.\n",
        "\n",
        "   Importance of Memory Management in Python:\n",
        "     i)iEfficient Use of System Resources\n",
        "     ii)Proper memory management ensures that memory is allocated and freed appropriately, avoiding unnecessary memory consumption.\n",
        "\n",
        "- Prevents Memory Leaks\n",
        "\n",
        "   - If memory is not released after use, it leads to memory leaks, which can slow down or crash the program.\n",
        "\n",
        "   - Python uses garbage collection to automatically clean up unused objects.\n",
        "\n",
        "- Automatic Memory Handling\n",
        "   - Python automates memory tasks like allocation and deallocation, reducing developer workload and chances of human error.\n",
        "\n",
        "- Improved Program Stability\n",
        "   - Effective memory management keeps programs stable by preventing crashes, freezes, or unexpected behavior due to memory issues.\n",
        "\n",
        "- Supports Complex Applications\n",
        "   - For data-heavy or long-running applications (e.g., data science, web servers), efficient memory usage is essential to ensure performance and scalability.\n",
        "\n",
        "- Encourages Cleaner Code\n",
        "    - Since developers don’t have to manage memory manually, they can focus more on writing clear, logical code.\n",
        "\n",
        "# 14.  What is the role of try and except in exception handling?\n",
        "\n",
        "  -- In Python, exception handling allows a program to respond to unexpected errors during execution without crashing. The try and except blocks are the core components used for handling these exceptions.\n",
        "\n",
        "- Role of try:\n",
        "   - The try block is used to wrap the code that might raise an exception.\n",
        "\n",
        "  - Python monitors the code inside the try block for any runtime errors.\n",
        "\n",
        "  - If an error occurs, Python immediately stops executing the try block and looks for a matching except block.\n",
        "\n",
        "-  Role of except:\n",
        "   - The except block is used to handle the exception that occurred in the try block.\n",
        "\n",
        "   - It catches the specific type of error and executes an alternative block of code.\n",
        "\n",
        "  - Prevents the program from terminating abruptly.\n",
        "\n",
        "\n",
        "#15.  How does Python's garbage collection system work?\n",
        "\n",
        "  -- Python’s garbage collection system is an automatic memory management feature that frees up memory by removing objects that are no longer in use, ensuring efficient use of system resources.\n",
        "\n",
        " - Key Concepts in Python’s Garbage Collection:\n",
        "  1. Reference Counting (Primary Mechanism)\n",
        "     - Every object in Python has a reference count, which tracks how many references point to it.\n",
        "\n",
        "     - When the reference count drops to zero (no variable refers to it), the memory is automatically deallocated.\n",
        "\n",
        " 2. Cyclic Garbage Collector (Handles Circular References):\n",
        "\n",
        "     - Sometimes, two or more objects refer to each other, creating a circular reference (e.g., object A refers to B and B refers back to A).\n",
        "\n",
        "     - Even if they're not used anywhere else, their reference count doesn't become zero.\n",
        "\n",
        "     - Python uses the gc module to detect and remove such unreachable cycles.\n",
        "\n",
        "#16.  What is the purpose of the else block in exception handling?\n",
        "\n",
        "   -- In Python's exception handling structure, the else block is an optional part that follows the try and except blocks.\n",
        "\n",
        " -  Purpose of the else Block:\n",
        "     1. The else block is used to define code that should run only if no exception occurs in the try block.\n",
        "\n",
        "     2. It helps to separate error-handling code (in except) from normal execution code (in else).\n",
        "\n",
        "     3. It improves code readability and organization by clearly distinguishing between risky code, handling code, and success code.\n",
        "\n",
        " -  Execution Flow:\n",
        "     - try: Contains code that may raise an exception.\n",
        "\n",
        "     - except: Executes if an exception occurs.\n",
        "\n",
        "     - else: Executes only if no exception occurred in try.\n",
        "\n",
        "     - finally: Executes no matter what.\n",
        "\n",
        "#17. What are the common logging levels in Python?\n",
        "\n",
        "   -- In Python, the logging module provides a way to track events that happen when software runs. It includes different logging levels to categorize the importance or severity of events.\n",
        "\n",
        "   The common logging levels in Python help developers categorize and filter logs based on severity — from minor issues (DEBUG) to serious failures (CRITICAL) — making it easier to monitor and troubleshoot applications.\n",
        "\n",
        "   1. DEBUG\t =   Used for detailed diagnostic information, mainly for developers during debugging.\n",
        "   2. INFO    =   Confirms that things are working as expected; used to report normal events like the start or end of a process.\n",
        "   3. WARNING\t=  Indicates a potential problem or unexpected situation that doesn't stop the program, but might need attention.\n",
        "   4. ERROR\t  =   Shows a serious problem that has caused part of the program to fail.\n",
        "   5. CRITICAL  =  Represents very serious errors that may prevent the program from continuing (e.g., system crash, data loss).\n",
        "\n",
        "#18. What is the difference between os.fork() and multiprocessing in Python?\n",
        "\n",
        "  -- Both os.fork() and the multiprocessing module are used to create new processes in Python, but they differ significantly in usage, portability, and abstraction level.\n",
        "\n",
        "  1. os.fork()\n",
        "     - A low-level system call used to create a child process by duplicating the current process.\n",
        "\n",
        "     - Available only on Unix/Linux systems (❌ Not available on Windows).\n",
        "\n",
        "     - The parent and child processes share the same code, but execute independently.\n",
        "\n",
        "     - The programmer must manually manage inter-process communication and synchronization.\n",
        "\n",
        "     - Less readable and more error-prone, but gives fine-grained control.\n",
        "\n",
        "  2. multiprocessing Module\n",
        "     - A high-level Python module that provides an interface for creating and managing processes.\n",
        "\n",
        "     - Works on both Windows and Unix/Linux (✅ Cross-platform).\n",
        "\n",
        "     - Provides built-in support for process creation, communication (using queues/pipes), and synchronization.\n",
        "\n",
        "     - Abstracts many low-level details, making it easier and safer to use.\n",
        "\n",
        "     - Ideal for writing parallel programs, especially for CPU-bound tasks.\n",
        "\n",
        "\n",
        "#19. What is the importance of closing a file in Python?\n",
        "\n",
        "  -- In Python, when you open a file using the open() function, it consumes system resources such as memory and file handles. Closing the file after you're done with it is a critical step in managing these resources properly.\n",
        "\n",
        " -  Why Closing a File is Important:\n",
        "    -  Releases System Resources\n",
        "    - Every open file occupies a file descriptor (a limited system resource).\n",
        "\n",
        "    - Closing the file frees this resource for other operations.\n",
        "\n",
        "- Flushes Data to Disk\n",
        "   - When writing to a file, data is often held in a buffer before being saved.\n",
        "\n",
        "   - Closing the file ensures that all data is properly written (flushed) to disk.\n",
        "\n",
        "- Prevents Data Corruption\n",
        "  - Leaving files open can lead to incomplete writes or corrupted files, especially if the program crashes before closing them.\n",
        "\n",
        "- Avoids Memory Leaks\n",
        "   - Unclosed files may continue to consume memory, leading to memory leaks in large or long-running programs.\n",
        "\n",
        "- Ensures File Integrity in Concurrent Access\n",
        "   - When multiple programs access the same file, proper closing helps in safe and synchronized access, preventing conflicts.\n",
        "\n",
        "\n",
        "#20. What is the difference between file.read() and file.readline() in Python?\n",
        "\n",
        "  -- In Python, both file.read() and file.readline() are methods used to read data from a file, but they differ in how much content they read and how they behave.\n",
        "\n",
        " 1. file.read()\n",
        "   - Reads the entire file content at once and returns it as a single string.\n",
        "\n",
        "   - You can also provide an optional size argument to read a specific number of characters.\n",
        "\n",
        "   - It is useful when you want to process the whole file at once.\n",
        "\n",
        " 2. file.readline()\n",
        "    - Reads only one line from the file at a time.\n",
        "\n",
        "    - Returns the line as a string, including the newline character \\n.\n",
        "\n",
        "    - Useful for line-by-line processing, especially with large files.  \n",
        "\n",
        "Summary:\n",
        "Use file.read() when you want to read the entire file content at once.\n",
        "\n",
        "Use file.readline() when you want to read and process the file line by line.\n",
        "\n",
        "\n",
        "#21. What is the logging module in Python used for?\n",
        "\n",
        "  -- The logging module in Python is a built-in standard library used for recording messages or events that occur during the execution of a program. It provides a flexible framework for tracking and diagnosing issues, especially useful in larger applications and production environments.\n",
        "\n",
        "-  Purpose of the Logging Module:\n",
        "   -  Error Tracking and Debugging\n",
        "   -  It helps developers identify bugs and issues by logging error messages, warnings, and critical failures.\n",
        "\n",
        "- Monitoring Program Execution\n",
        "    - Logs can track the flow of execution, making it easier to understand how the program runs.\n",
        "\n",
        "- Provides Multiple Logging Levels\n",
        "   - Allows messages to be categorized based on their severity, such as DEBUG, INFO, WARNING, ERROR, and CRITICAL.\n",
        "\n",
        "- Persistent Logging\n",
        "    - Unlike print(), logs can be written to files, databases, or external systems, making them useful for long-term analysis and auditing.\n",
        "\n",
        "-  Customizable Output\n",
        "    - Developers can format log messages, set log levels, and direct logs to different destinations like console, files, or email.\n",
        "\n",
        "- Essential for Production Systems\n",
        "    - In deployed applications, logs are crucial for monitoring performance, detecting failures, and ensuring system reliability.\n",
        "\n",
        "\n",
        "#22. What is the os module in Python used for in file handling?\n",
        "\n",
        "   -- The os module in Python is a standard library that provides a way to interact with the operating system. In the context of file handling, it is used to perform various file and directory-related operations that go beyond just reading or writing files.\n",
        "\n",
        "-  Uses of os Module in File Handling:\n",
        "    -  Working with Files and Directories\n",
        "    -  Create, remove, rename, or list files and folders.\n",
        "\n",
        "-  Directory Navigation\n",
        "     - Change or get the current working directory.\n",
        "\n",
        "-  File and Directory Checking\n",
        "   - Check if a file or directory exists.\n",
        "\n",
        "- Directory Management\n",
        "     - Create or delete directories.\n",
        "\n",
        "- Listing Contents\n",
        "     - List all files and subdirectories in a directory.   \n",
        "\n",
        "- System-level File Info\n",
        "     - Access file size, permissions, timestamps, etc.\n",
        "\n",
        "# 23. What are the challenges associated with memory management in Python?\n",
        "\n",
        "   -- Although Python handles memory management automatically through its built-in memory manager and garbage collector, several challenges and limitations can still arise, especially in large-scale or performance-critical applications.\n",
        "\n",
        "-  Key Challenges in Python Memory Management:\n",
        "   - Reference Cycles\n",
        "      - Python uses reference counting for memory management, but it fails when two or more objects refer to each other, creating a circular reference.\n",
        "\n",
        "      - The garbage collector handles such cases, but detection and cleanup may not be immediate.\n",
        "\n",
        "   -  Memory Leaks\n",
        "       - Memory leaks can still occur when references to objects are unintentionally kept alive, especially in long-running applications.\n",
        "\n",
        "       - Common causes include global variables, event listeners, or object containers holding references.\n",
        "\n",
        "   -  Garbage Collection Overhead\n",
        "       - The garbage collector may introduce performance overhead, especially when scanning large object graphs or frequently collecting cyclic garbage.\n",
        "\n",
        "   - Non-Deterministic Cleanup\n",
        "      -Unlike languages like C++ (where destructors run immediately), Python's garbage collection is non-deterministic, meaning object cleanup can be delayed.\n",
        "\n",
        "   -  Large Object Retention\n",
        "      - Sometimes, large objects stay in memory longer than needed, especially in cases of poor data structure management or caching strategies.\n",
        "\n",
        "\n",
        "#24.  How do you raise an exception manually in Python?\n",
        "\n",
        "  -- In Python, you can manually raise an exception using the raise statement. This is useful when you want to intentionally stop program execution if a certain condition is met, and signal that something has gone wrong.\n",
        "\n",
        "  i)Use the raise keyword to manually trigger exceptions.\n",
        "\n",
        "  ii)It helps in error checking, validation, and custom error handling.\n",
        "\n",
        "  iii)You can raise built-in or custom exceptions.\n",
        "\n",
        "\n",
        "#25. Why is it important to use multithreading in certain applications?\n",
        "\n",
        "  --  Multithreading allows a program to run multiple threads (smaller units of a process) concurrently, improving performance, responsiveness, and resource utilization—especially in specific types of applications.\n",
        "\n",
        " - Key Reasons Why Multithreading Is Important:\n",
        "1.  Improves Application Responsiveness\n",
        "     - In GUI or web applications, multithreading prevents the interface from freezing while background tasks (e.g., downloading, loading files) are running.\n",
        "\n",
        " Example: In a web browser, one thread can load the page while another keeps the interface interactive.\n",
        "\n",
        "2.  Handles I/O-bound Tasks Efficiently\n",
        "   - Multithreading is ideal for tasks like file reading, network requests, or database access, where threads can work while waiting for external resources.\n",
        "\n",
        " Example: While one thread waits for data from the internet, another can continue processing user input.\n",
        "\n",
        "3. Better Resource Utilization\n",
        "  - Threads share the same memory space, reducing memory usage compared to running multiple processes.\n",
        "\n",
        " Example: A server handling thousands of clients can use threads to handle requests with low memory overhead."
      ],
      "metadata": {
        "id": "In1Jt2EBQUnf"
      }
    },
    {
      "cell_type": "markdown",
      "source": [
        "# PRACTICAL QUESTIONS"
      ],
      "metadata": {
        "id": "8fMlQSbjVC1g"
      }
    },
    {
      "cell_type": "markdown",
      "source": [
        "#1. How can you open a file for writing in Python and write a string to it?\n"
      ],
      "metadata": {
        "id": "Q0FamfvZiROB"
      }
    },
    {
      "cell_type": "code",
      "source": [
        "file = open(\"files.txt\", \"w\")\n",
        "file.write(\"here is the string in it\")\n",
        "file.close()"
      ],
      "metadata": {
        "id": "msvsLmlx3tKK"
      },
      "execution_count": 2,
      "outputs": []
    },
    {
      "cell_type": "markdown",
      "source": [
        "#2. Write a Python program to read the contents of a file and print each line"
      ],
      "metadata": {
        "id": "tIcxgYEEjBYT"
      }
    },
    {
      "cell_type": "code",
      "execution_count": 5,
      "metadata": {
        "id": "uJlM5WDL2dU8",
        "colab": {
          "base_uri": "https://localhost:8080/"
        },
        "outputId": "2fff924f-17c8-4023-8c93-9a0b96db368f"
      },
      "outputs": [
        {
          "output_type": "stream",
          "name": "stdout",
          "text": [
            "here is the string in it "
          ]
        }
      ],
      "source": [
        "with open(\"files.txt\", \"r\") as file:\n",
        "  for line in file:\n",
        "    print(line, end=\" \")"
      ]
    },
    {
      "cell_type": "markdown",
      "source": [
        "#3. How would you handle a case where the file doesn't exist while trying to open it for reading?"
      ],
      "metadata": {
        "id": "vZpdvNovkPX9"
      }
    },
    {
      "cell_type": "code",
      "source": [
        "try:\n",
        "    with open(\"example.txt\", \"r\") as file:\n",
        "        for line in file:\n",
        "            print(line, end=\"\")\n",
        "except FileNotFoundError:\n",
        "    print(\"Error: The file does not exist.\")\n"
      ],
      "metadata": {
        "colab": {
          "base_uri": "https://localhost:8080/"
        },
        "id": "knL_ccowjbD7",
        "outputId": "b1fe2b85-7dd2-421c-c8ac-9809aaee4e8e"
      },
      "execution_count": 6,
      "outputs": [
        {
          "output_type": "stream",
          "name": "stdout",
          "text": [
            "Error: The file does not exist.\n"
          ]
        }
      ]
    },
    {
      "cell_type": "markdown",
      "source": [
        "# 4. Write a Python script that reads from one file and writes its content to another file"
      ],
      "metadata": {
        "id": "inAqq7CLk_7P"
      }
    },
    {
      "cell_type": "code",
      "source": [
        "try:\n",
        "    with open(\"source.txt\", \"r\") as source_file:\n",
        "        content = source_file.read()\n",
        "\n",
        "    with open(\"destination.txt\", \"w\") as destination_file:\n",
        "        destination_file.write(content)\n",
        "\n",
        "    print(\"File copied successfully.\")\n",
        "\n",
        "except FileNotFoundError:\n",
        "    print(\"Error: The source file does not exist.\")\n"
      ],
      "metadata": {
        "colab": {
          "base_uri": "https://localhost:8080/"
        },
        "id": "bbzIqwc_k-ph",
        "outputId": "99c2b50f-92cd-41fd-9abf-2ab2f6c82840"
      },
      "execution_count": 7,
      "outputs": [
        {
          "output_type": "stream",
          "name": "stdout",
          "text": [
            "Error: The source file does not exist.\n"
          ]
        }
      ]
    },
    {
      "cell_type": "markdown",
      "source": [
        "#5. How would you catch and handle division by zero error in Python?"
      ],
      "metadata": {
        "id": "Wn16NPQalr0z"
      }
    },
    {
      "cell_type": "code",
      "source": [
        "try:\n",
        "  10/0\n",
        "  print(\"result is \")\n",
        "except ZeroDivisionError as e:\n",
        "  print(\"there is an issue with the error:\",e)\n"
      ],
      "metadata": {
        "colab": {
          "base_uri": "https://localhost:8080/"
        },
        "id": "oU5lYOwqlfB6",
        "outputId": "98449c0b-d6a3-4b5c-81c2-152aca4a17a4"
      },
      "execution_count": 9,
      "outputs": [
        {
          "output_type": "stream",
          "name": "stdout",
          "text": [
            "there is an issue with the error: division by zero\n"
          ]
        }
      ]
    },
    {
      "cell_type": "markdown",
      "source": [
        "#6. Write a Python program that logs an error message to a log file when a division by zero exception occurs."
      ],
      "metadata": {
        "id": "1iwyyJLDmPiM"
      }
    },
    {
      "cell_type": "code",
      "source": [
        "import logging\n",
        "\n",
        "logging.basicConfig(\n",
        "    filename=\"error_log.txt\",\n",
        "    level=logging.ERROR,\n",
        "    format=\"%(asctime)s - %(levelname)s - %(message)s\"\n",
        ")\n",
        "\n",
        "def divide(a, b):\n",
        "    try:\n",
        "        result = a / b\n",
        "        print(\"Result:\", result)\n",
        "    except ZeroDivisionError as e:\n",
        "        logging.error(\"Division by zero error occurred: %s\", e)\n",
        "        print(\"Error: Cannot divide by zero.\")\n",
        "\n",
        "\n",
        "divide(10, 0)\n"
      ],
      "metadata": {
        "colab": {
          "base_uri": "https://localhost:8080/"
        },
        "id": "q1e4ym7-mDlb",
        "outputId": "6d24bebf-d9c1-4fea-f557-7e89985c504a"
      },
      "execution_count": 10,
      "outputs": [
        {
          "output_type": "stream",
          "name": "stderr",
          "text": [
            "ERROR:root:Division by zero error occurred: division by zero\n"
          ]
        },
        {
          "output_type": "stream",
          "name": "stdout",
          "text": [
            "Error: Cannot divide by zero.\n"
          ]
        }
      ]
    },
    {
      "cell_type": "markdown",
      "source": [
        "#7. How do you log information at different levels (INFO, ERROR, WARNING) in Python using the logging module?"
      ],
      "metadata": {
        "id": "Bf97hSwenDGj"
      }
    },
    {
      "cell_type": "code",
      "source": [
        "import logging\n",
        "\n",
        "logging.basicConfig(\n",
        "    filename=\"app.log\",\n",
        "    level=logging.DEBUG,\n",
        "    format=\"%(asctime)s - %(levelname)s - %(message)s\"\n",
        ")\n",
        "\n",
        "\n",
        "logging.debug(\"This is a DEBUG message.\")\n",
        "logging.info(\"This is an INFO message.\")\n",
        "logging.warning(\"This is a WARNING message.\")\n",
        "logging.error(\"This is an ERROR message.\")\n",
        "logging.critical(\"This is a CRITICAL MESSAGE\")\n"
      ],
      "metadata": {
        "colab": {
          "base_uri": "https://localhost:8080/"
        },
        "id": "7GxTE1u0nAcW",
        "outputId": "18d04501-676b-4419-a753-48eb405f56d7"
      },
      "execution_count": 11,
      "outputs": [
        {
          "output_type": "stream",
          "name": "stderr",
          "text": [
            "WARNING:root:This is a WARNING message.\n",
            "ERROR:root:This is an ERROR message.\n",
            "CRITICAL:root:This is a CRITICAL MESSAGE\n"
          ]
        }
      ]
    },
    {
      "cell_type": "markdown",
      "source": [
        "#8. Write a program to handle a file opening error using exception handling."
      ],
      "metadata": {
        "id": "ujxRUM4uoFZF"
      }
    },
    {
      "cell_type": "code",
      "source": [
        "filename = \"non_existing_file.txt\"\n",
        "\n",
        "try:\n",
        "    with open(filename, \"r\") as file:\n",
        "        content = file.read()\n",
        "        print(\"File content:\")\n",
        "        print(content)\n",
        "\n",
        "except FileNotFoundError:\n",
        "    print(f\"Error: The file '{filename}' was not found.\")\n",
        "\n",
        "except PermissionError:\n",
        "    print(f\"Error: You do not have permission to open the file '{filename}'.\")\n",
        "\n",
        "except Exception as e:\n",
        "    print(f\"An unexpected error occurred: {e}\")\n"
      ],
      "metadata": {
        "colab": {
          "base_uri": "https://localhost:8080/"
        },
        "id": "DNoViH7-oDbu",
        "outputId": "53cec1e5-499b-44c3-c79c-ec4a53daaf7f"
      },
      "execution_count": 12,
      "outputs": [
        {
          "output_type": "stream",
          "name": "stdout",
          "text": [
            "Error: The file 'non_existing_file.txt' was not found.\n"
          ]
        }
      ]
    },
    {
      "cell_type": "markdown",
      "source": [
        "#9. How can you read a file line by line and store its content in a list in Python?\n",
        "\n"
      ],
      "metadata": {
        "id": "PQpugtxmobBd"
      }
    },
    {
      "cell_type": "code",
      "source": [
        "with open(\"example.txt\", \"w\") as file:\n",
        "    file.write(\"Line 1: Hello, world!\\n\")\n",
        "    file.write(\"Line 2: Python is fun.\\n\")\n",
        "    file.write(\"Line 3: File handling is useful.\\n\")\n",
        "\n",
        "\n",
        "with open(\"example.txt\", \"r\") as file:\n",
        "    lines = [line.strip() for line in file]\n",
        "\n",
        "\n",
        "print(\"Contents of the file as a list:\")\n",
        "print(lines)\n"
      ],
      "metadata": {
        "colab": {
          "base_uri": "https://localhost:8080/"
        },
        "id": "m4XxhbC_oWmw",
        "outputId": "c28723a2-9473-49db-fd84-f28fc3344af9"
      },
      "execution_count": 16,
      "outputs": [
        {
          "output_type": "stream",
          "name": "stdout",
          "text": [
            "Contents of the file as a list:\n",
            "['Line 1: Hello, world!', 'Line 2: Python is fun.', 'Line 3: File handling is useful.']\n"
          ]
        }
      ]
    },
    {
      "cell_type": "markdown",
      "source": [
        "#10. How can you append data to an existing file in Python?\n"
      ],
      "metadata": {
        "id": "jkjjmSm7pJdT"
      }
    },
    {
      "cell_type": "code",
      "source": [
        "with open(\"example.txt\", \"w\") as file:\n",
        "  file.write(\"this is first line\")\n",
        "with open(\"example.txt\", \"a\") as file:\n",
        "    file.write(\"This is an appended line.\\n\")\n",
        "\n",
        "with open(\"example.txt\", \"r\") as file:\n",
        "  file.read()\n"
      ],
      "metadata": {
        "id": "Lvma7NmKomjt"
      },
      "execution_count": 19,
      "outputs": []
    },
    {
      "cell_type": "markdown",
      "source": [
        "#11.  Write a Python program that uses a try-except block to handle an error when attempting to access a dictionary key that doesn't exist."
      ],
      "metadata": {
        "id": "4wmtvSK_wQy5"
      }
    },
    {
      "cell_type": "code",
      "source": [
        "student = {\n",
        "    \"name\": \"Ayushi\",\n",
        "    \"age\": 21,\n",
        "    \"course\": \"Data Science\"\n",
        "}\n",
        "\n",
        "try:\n",
        "    print(\"Student's grade:\", student[\"grade\"])  # This key doesn't exist\n",
        "\n",
        "except KeyError:\n",
        "    print(\"Error: The key 'grade' does not exist in the dictionary.\")\n"
      ],
      "metadata": {
        "colab": {
          "base_uri": "https://localhost:8080/"
        },
        "id": "FTM4TFRCpfNW",
        "outputId": "284984b1-729d-42e6-c71e-4c75885009e5"
      },
      "execution_count": 20,
      "outputs": [
        {
          "output_type": "stream",
          "name": "stdout",
          "text": [
            "Error: The key 'grade' does not exist in the dictionary.\n"
          ]
        }
      ]
    },
    {
      "cell_type": "markdown",
      "source": [
        "#12.  Write a program that demonstrates using multiple except blocks to handle different types of exceptions.\n"
      ],
      "metadata": {
        "id": "5kcBX0CUxkZy"
      }
    },
    {
      "cell_type": "code",
      "source": [
        "try:\n",
        "    num1 = int(input(\"Enter a number: \"))\n",
        "    num2 = int(input(\"Enter another number: \"))\n",
        "\n",
        "    result = num1 / num2\n",
        "    data = {\"name\": \"Ayushi\"}\n",
        "    print(\"Age:\", data[\"age\"])\n",
        "\n",
        "except ValueError:\n",
        "    print(\"Error: Please enter valid integers.\")\n",
        "\n",
        "except ZeroDivisionError:\n",
        "    print(\"Error: Cannot divide by zero.\")\n",
        "\n",
        "except KeyError as e:\n",
        "    print(f\"Error: Key '{e}' not found in the dictionary.\")\n",
        "except Exception as e:\n",
        "    print(\"An unexpected error occurred:\", e)\n"
      ],
      "metadata": {
        "colab": {
          "base_uri": "https://localhost:8080/"
        },
        "id": "elNQYX2twrrJ",
        "outputId": "14dcf329-b39f-49b6-f4cf-262a42cfc4bd"
      },
      "execution_count": 21,
      "outputs": [
        {
          "output_type": "stream",
          "name": "stdout",
          "text": [
            "Enter a number: 25\n",
            "Enter another number: 3\n",
            "Error: Key ''age'' not found in the dictionary.\n"
          ]
        }
      ]
    },
    {
      "cell_type": "markdown",
      "source": [
        "#13. How would you check if a file exists before attempting to read it in Python?"
      ],
      "metadata": {
        "id": "BkadQ1bWyF1i"
      }
    },
    {
      "cell_type": "code",
      "source": [
        "import os\n",
        "\n",
        "filename = \"example.txt\"\n",
        "\n",
        "if os.path.exists(filename):\n",
        "    with open(filename, \"r\") as file:\n",
        "        content = file.read()\n",
        "        print(content)\n",
        "else:\n",
        "    print(f\"Error: The file '{filename}' does not exist.\")\n"
      ],
      "metadata": {
        "colab": {
          "base_uri": "https://localhost:8080/"
        },
        "id": "rKEHEh3hyCxx",
        "outputId": "a508b3a6-2d6e-4731-96b2-2c9f42704cc4"
      },
      "execution_count": 22,
      "outputs": [
        {
          "output_type": "stream",
          "name": "stdout",
          "text": [
            "this is first lineThis is an appended line.\n",
            "\n"
          ]
        }
      ]
    },
    {
      "cell_type": "markdown",
      "source": [
        "#14. Write a program that uses the logging module to log both informational and error messages."
      ],
      "metadata": {
        "id": "D8P2GgPDyPb8"
      }
    },
    {
      "cell_type": "code",
      "source": [
        "import logging\n",
        "\n",
        "logging.basicConfig(\n",
        "    filename=\"app_log.txt\",\n",
        "    level=logging.DEBUG,\n",
        "    format=\"%(asctime)s - %(levelname)s - %(message)s\"\n",
        ")\n",
        "\n",
        "def divide(a, b):\n",
        "    logging.info(f\"Attempting to divide {a} by {b}\")\n",
        "    try:\n",
        "        result = a / b\n",
        "        logging.info(f\"Result: {result}\")\n",
        "        return result\n",
        "    except ZeroDivisionError as e:\n",
        "        logging.error(f\"Division by zero error: {e}\")\n",
        "        return None\n",
        "\n",
        "divide(10, 2)\n",
        "divide(5, 0)\n"
      ],
      "metadata": {
        "colab": {
          "base_uri": "https://localhost:8080/"
        },
        "id": "C7hRGn4IyOcQ",
        "outputId": "13c05584-b998-43d9-f2b4-eebba579e4d9"
      },
      "execution_count": 23,
      "outputs": [
        {
          "output_type": "stream",
          "name": "stderr",
          "text": [
            "ERROR:root:Division by zero error: division by zero\n"
          ]
        }
      ]
    },
    {
      "cell_type": "markdown",
      "source": [
        "#15. Write a Python program that prints the content of a file and handles the case when the file is empty."
      ],
      "metadata": {
        "id": "RiDFsgC2y3jU"
      }
    },
    {
      "cell_type": "code",
      "source": [
        "def read_file(filename):\n",
        "    try:\n",
        "        with open(filename, \"r\") as file:\n",
        "            content = file.read()\n",
        "            if content.strip() == \"\":\n",
        "                print(f\"The file '{filename}' is empty.\")\n",
        "            else:\n",
        "                print(\"File content:\")\n",
        "                print(content)\n",
        "    except FileNotFoundError:\n",
        "        print(f\"Error: The file '{filename}' does not exist.\")\n",
        "    except Exception as e:\n",
        "        print(f\"An unexpected error occurred: {e}\")\n",
        "\n",
        "read_file(\"example.txt\")\n"
      ],
      "metadata": {
        "colab": {
          "base_uri": "https://localhost:8080/"
        },
        "id": "x0gzolV1y2YK",
        "outputId": "b51821d7-7484-4245-e0bc-28dd07e6e181"
      },
      "execution_count": 24,
      "outputs": [
        {
          "output_type": "stream",
          "name": "stdout",
          "text": [
            "File content:\n",
            "this is first lineThis is an appended line.\n",
            "\n"
          ]
        }
      ]
    },
    {
      "cell_type": "markdown",
      "source": [
        "#16. Demonstrate how to use memory profiling to check the memory usage of a small program."
      ],
      "metadata": {
        "id": "w99w0oYEzNeN"
      }
    },
    {
      "cell_type": "code",
      "source": [
        "from memory_profiler import profile\n",
        "\n",
        "@profile\n",
        "def create_large_list():\n",
        "    # This line consumes memory\n",
        "    big_list = [i * 2 for i in range(1000000)]\n",
        "    return big_list\n",
        "\n",
        "if __name__ == \"__main__\":\n",
        "    create_large_list()\n"
      ],
      "metadata": {
        "id": "P8ukLlBqzyBc"
      },
      "execution_count": null,
      "outputs": []
    },
    {
      "cell_type": "markdown",
      "source": [
        "#17. Write a Python program to create and write a list of numbers to a file, one number per line."
      ],
      "metadata": {
        "id": "H6Yfr4WI0OuA"
      }
    },
    {
      "cell_type": "code",
      "source": [
        "numbers = [10, 20, 30, 40, 50]\n",
        "\n",
        "with open(\"numbers.txt\", \"w\") as file:\n",
        "    for number in numbers:\n",
        "        file.write(f\"{number}\\n\")\n",
        "\n",
        "print(\"Numbers written to 'numbers.txt' successfully.\")\n"
      ],
      "metadata": {
        "colab": {
          "base_uri": "https://localhost:8080/"
        },
        "id": "GbGOZR_j0Z7a",
        "outputId": "b54cff99-2f1d-49da-e18e-973a476651b5"
      },
      "execution_count": 29,
      "outputs": [
        {
          "output_type": "stream",
          "name": "stdout",
          "text": [
            "Numbers written to 'numbers.txt' successfully.\n"
          ]
        }
      ]
    },
    {
      "cell_type": "markdown",
      "source": [
        "#18.  How would you implement a basic logging setup that logs to a file with rotation after 1MB?"
      ],
      "metadata": {
        "id": "jY6LccrU0lN0"
      }
    },
    {
      "cell_type": "code",
      "source": [
        "import logging\n",
        "from logging.handlers import RotatingFileHandler\n",
        "\n",
        "log_handler = RotatingFileHandler(\n",
        "    \"app.log\",\n",
        "    maxBytes=1_000_000,\n",
        "    backupCount=3\n",
        ")\n",
        "\n",
        "logging.basicConfig(\n",
        "    level=logging.INFO,\n",
        "    format=\"%(asctime)s - %(levelname)s - %(message)s\",\n",
        "    handlers=[log_handler]\n",
        ")\n",
        "\n",
        "\n",
        "for i in range(10000):\n",
        "    logging.info(f\"Logging message number {i}\")\n"
      ],
      "metadata": {
        "id": "lY31qVF80j9a"
      },
      "execution_count": 30,
      "outputs": []
    },
    {
      "cell_type": "markdown",
      "source": [
        "#19. Write a program that handles both IndexError and KeyError using a try-except block."
      ],
      "metadata": {
        "id": "Oc8t7NwF01K9"
      }
    },
    {
      "cell_type": "code",
      "source": [
        "def handle_errors():\n",
        "    my_list = [1, 2, 3]\n",
        "    my_dict = {\"name\": \"Ayushi\", \"age\": 21}\n",
        "\n",
        "    try:\n",
        "        print(\"List item:\", my_list[5])\n",
        "        print(\"City:\", my_dict[\"city\"])\n",
        "\n",
        "    except IndexError:\n",
        "        print(\"Error: Tried to access an index that doesn't exist in the list.\")\n",
        "\n",
        "    except KeyError as e:\n",
        "        print(f\"Error: The key '{e}' is not present in the dictionary.\")\n",
        "\n",
        "handle_errors()\n"
      ],
      "metadata": {
        "colab": {
          "base_uri": "https://localhost:8080/"
        },
        "id": "nlFgT-Y_00Fd",
        "outputId": "a13b10f5-94ad-44d4-c8b1-3cbd7cc98766"
      },
      "execution_count": 31,
      "outputs": [
        {
          "output_type": "stream",
          "name": "stdout",
          "text": [
            "Error: Tried to access an index that doesn't exist in the list.\n"
          ]
        }
      ]
    },
    {
      "cell_type": "markdown",
      "source": [
        "#20. How would you open a file and read its contents using a context manager in Python?\n"
      ],
      "metadata": {
        "id": "1YBeOUin1JvS"
      }
    },
    {
      "cell_type": "code",
      "source": [
        "\n",
        "with open(\"example.txt\", \"r\") as file:\n",
        "    content = file.read()\n",
        "    print(content)\n"
      ],
      "metadata": {
        "colab": {
          "base_uri": "https://localhost:8080/"
        },
        "id": "P0Vhb1hh1G5f",
        "outputId": "734cd3a0-9a09-4973-ac60-7b0eccb2db5e"
      },
      "execution_count": 32,
      "outputs": [
        {
          "output_type": "stream",
          "name": "stdout",
          "text": [
            "this is first lineThis is an appended line.\n",
            "\n"
          ]
        }
      ]
    },
    {
      "cell_type": "markdown",
      "source": [
        "#21. Write a Python program that reads a file and prints the number of occurrences of a specific word."
      ],
      "metadata": {
        "id": "-npeC3K61X6b"
      }
    },
    {
      "cell_type": "code",
      "source": [
        "def count_word_in_file(filename, target_word):\n",
        "    try:\n",
        "        with open(filename, 'r') as file:\n",
        "            content = file.read().lower()\n",
        "            target_word = target_word.lower()\n",
        "            word_count = content.split().count(target_word)\n",
        "            print(f\"The word '{target_word}' occurs {word_count} time(s) in '{filename}'.\")\n",
        "    except FileNotFoundError:\n",
        "        print(f\"Error: The file '{filename}' does not exist.\")\n",
        "    except Exception as e:\n",
        "        print(f\"An unexpected error occurred: {e}\")\n",
        "\n",
        "count_word_in_file(\"example.txt\", \"python\")\n"
      ],
      "metadata": {
        "colab": {
          "base_uri": "https://localhost:8080/"
        },
        "id": "cRyxoAPu1WPv",
        "outputId": "11837426-3d16-455f-e4c9-b287b1b98ca0"
      },
      "execution_count": 33,
      "outputs": [
        {
          "output_type": "stream",
          "name": "stdout",
          "text": [
            "The word 'python' occurs 0 time(s) in 'example.txt'.\n"
          ]
        }
      ]
    },
    {
      "cell_type": "markdown",
      "source": [
        "#22. How can you check if a file is empty before attempting to read its contents."
      ],
      "metadata": {
        "id": "GLm7vJYy1ljb"
      }
    },
    {
      "cell_type": "code",
      "source": [
        "import os\n",
        "\n",
        "filename = \"example.txt\"\n",
        "\n",
        "if os.path.exists(filename):\n",
        "    if os.path.getsize(filename) == 0:\n",
        "        print(f\"The file '{filename}' is empty.\")\n",
        "    else:\n",
        "        with open(filename, \"r\") as file:\n",
        "            content = file.read()\n",
        "            print(\"File content:\")\n",
        "            print(content)\n",
        "else:\n",
        "    print(f\"Error: The file '{filename}' does not exist.\")\n"
      ],
      "metadata": {
        "colab": {
          "base_uri": "https://localhost:8080/"
        },
        "id": "VLL7eRqv1k0B",
        "outputId": "13890c7b-8c79-40c0-8784-069f425d6029"
      },
      "execution_count": 34,
      "outputs": [
        {
          "output_type": "stream",
          "name": "stdout",
          "text": [
            "File content:\n",
            "this is first lineThis is an appended line.\n",
            "\n"
          ]
        }
      ]
    },
    {
      "cell_type": "markdown",
      "source": [
        "#23. Write a Python program that writes to a log file when an error occurs during file handling."
      ],
      "metadata": {
        "id": "ibReI_8l13pw"
      }
    },
    {
      "cell_type": "code",
      "source": [
        "import logging\n",
        "\n",
        "logging.basicConfig(\n",
        "    filename=\"file_errors.log\",\n",
        "    level=logging.ERROR,\n",
        "    format=\"%(asctime)s - %(levelname)s - %(message)s\"\n",
        ")\n",
        "\n",
        "def read_file(filename):\n",
        "    try:\n",
        "        with open(filename, \"r\") as file:\n",
        "            content = file.read()\n",
        "            print(\"File content:\\n\", content)\n",
        "    except FileNotFoundError as e:\n",
        "        logging.error(f\"FileNotFoundError: {e}\")\n",
        "        print(f\"Error: The file '{filename}' does not exist.\")\n",
        "    except PermissionError as e:\n",
        "        logging.error(f\"PermissionError: {e}\")\n",
        "        print(f\"Error: Permission denied to read '{filename}'.\")\n",
        "    except Exception as e:\n",
        "        logging.error(f\"Unexpected error: {e}\")\n",
        "        print(\"An unexpected error occurred.\")\n",
        "\n",
        "\n",
        "read_file(\"non_existing_file.txt\")\n"
      ],
      "metadata": {
        "colab": {
          "base_uri": "https://localhost:8080/"
        },
        "id": "pFgGcvQ511fm",
        "outputId": "6f177834-90ae-452f-a863-9570da01eac3"
      },
      "execution_count": 35,
      "outputs": [
        {
          "output_type": "stream",
          "name": "stderr",
          "text": [
            "ERROR:root:FileNotFoundError: [Errno 2] No such file or directory: 'non_existing_file.txt'\n"
          ]
        },
        {
          "output_type": "stream",
          "name": "stdout",
          "text": [
            "Error: The file 'non_existing_file.txt' does not exist.\n"
          ]
        }
      ]
    }
  ]
}