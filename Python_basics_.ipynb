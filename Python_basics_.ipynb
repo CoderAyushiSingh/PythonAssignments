{
  "nbformat": 4,
  "nbformat_minor": 0,
  "metadata": {
    "colab": {
      "provenance": []
    },
    "kernelspec": {
      "name": "python3",
      "display_name": "Python 3"
    },
    "language_info": {
      "name": "python"
    }
  },
  "cells": [
    {
      "cell_type": "code",
      "execution_count": null,
      "metadata": {
        "id": "t5FNBlG5P07n"
      },
      "outputs": [],
      "source": []
    },
    {
      "cell_type": "markdown",
      "source": [
        "# PYTHON BASIC THEORY QUESTIONS\n",
        "\n",
        "# 1. What is Python, and why is it popular?\n",
        "  - python is high level programming language known for it's various libraries\n",
        "   it is popular because\n",
        "   a) it is versatile and readable\n",
        "   b) it has a large and active community\n",
        "   c) Used in many web fields\n",
        "\n",
        "# 2. What is an interpreter in Python?\n",
        "  - An interpreter in Python is a program that reads your Python code line-by-line and immediately executes (runs) each line.\n",
        "\n",
        "# 3. What are pre-defined keywords in Python?   \n",
        "  - In Python, pre-defined keywords are special reserved words that the language already understands and uses to perform specific tasks.\n",
        "\n",
        "# 4. Can keywords be used as variable names in python ?\n",
        "  -  No, keywords cannot be used as variable names in Python as python sees keywords as commands, not as names.\n",
        "\n",
        "# 5. What is mutability in Python?\n",
        "  - In Python, some objects can be changed (they are mutable) and some cannot be changed (they are immutable).\n",
        "  some examples are lists, sets, dictionaries.\n",
        "\n",
        "# 6.  Why are lists mutable, but tuples are immutable?\n",
        "  -  List can be changed and added or remove items while in tuples we cannot be change, add or remove items.\n",
        "  \n",
        "# 7. What is the difference between “==” and “is” operators in Python ?\n",
        "  - \"==\" it compares values and checks if two variables have the same value.\n",
        "   \"is\" it compares the identity and checks if the two variables point to the exact same object in memory.  \n",
        "\n",
        "# 8. What are logical operators in Python ?\n",
        "  - logical operator is used to combine or compare multiple conditions.\n",
        "  AND operator = True only if both conditions are true\n",
        "  OR operator = True if at least one condition is true\n",
        "  NOT operator = Reverse the result (true becomes false )\n",
        "\n",
        "# 9. What is type casting in Python?\n",
        "  - It converts one data type to another data type like integer is converted into string ang string is converted in integer.\n",
        "\n",
        "# 10. What is the difference between implicit and explicit type casting?\n",
        "  - In implicit type casting python automatically changes the data type when needed, without asking.\n",
        "   In excplicit type casting we tell python to change the data type using functions like int() float() etc.\n",
        "\n",
        "# 11. What is the purpose of conditional statements in Python?\n",
        "  - Conditional statements are used to make decisions in our code. Without conditional statements, code would do the same thing every time, no matter what.\n",
        "  But with conditions, program becomes smart — it can respond differently based on inputs or situations.\n",
        "\n",
        "# 12. How does the elif statement work?\n",
        "  - elif stands for \"else if\".\n",
        "   a) It is used after an if statement to check another condition.\n",
        "   b) It only runs if the if condition is False.\n",
        "\n",
        "# 13. What is the difference between for and while loops ?\n",
        "  - For loop = it repeats a block for each item in a sequence (like a list or range )\n",
        "  while loop= it repeats a block as long as condition is true\n",
        "\n",
        "# 14. Describe a scenario where a while loop is more suitable than a for loop.\n",
        "  - A while loop is better when you don’t know how many times something will happen — you just want to keep repeating until a condition is met.\n",
        "\n",
        "  "
      ],
      "metadata": {
        "id": "2uOvTUhpP1ta"
      }
    },
    {
      "cell_type": "markdown",
      "source": [
        "#PRACTICAL QUESTIONS"
      ],
      "metadata": {
        "id": "Ih65wvJid3Kb"
      }
    },
    {
      "cell_type": "markdown",
      "source": [
        "# 1. Write a Python program to print \"Hello, World!\n"
      ],
      "metadata": {
        "id": "e4JAkq_QeaKL"
      }
    },
    {
      "cell_type": "code",
      "source": [
        "print(\"Hello, World!\")"
      ],
      "metadata": {
        "colab": {
          "base_uri": "https://localhost:8080/"
        },
        "id": "8X5hgR7keJbL",
        "outputId": "09ab18d2-3778-4e15-f23b-72ed63aad6eb"
      },
      "execution_count": null,
      "outputs": [
        {
          "output_type": "stream",
          "name": "stdout",
          "text": [
            "Hello, World!\n"
          ]
        }
      ]
    },
    {
      "cell_type": "markdown",
      "source": [
        "# 2. Write a Python program that displays your name and age\n"
      ],
      "metadata": {
        "id": "sJ2JOw_We8Wn"
      }
    },
    {
      "cell_type": "code",
      "source": [
        "name = input(\"Enter your name\")\n",
        "age = input(\"Enter your age\")\n",
        "print(\"My name is\", name, \"and my age is\", age)"
      ],
      "metadata": {
        "colab": {
          "base_uri": "https://localhost:8080/"
        },
        "id": "I8ed_9M3hr9t",
        "outputId": "e649c787-9b00-4c13-c643-124521dc2a67"
      },
      "execution_count": null,
      "outputs": [
        {
          "output_type": "stream",
          "name": "stdout",
          "text": [
            "Enter your nameayushi\n",
            "Enter your age21\n",
            "My name is ayushi and my age is 21\n"
          ]
        }
      ]
    },
    {
      "cell_type": "markdown",
      "source": [
        "# 3. Write code to print all the pre-defined keywords in Python using the keyword library"
      ],
      "metadata": {
        "id": "202deq3vh-ZV"
      }
    },
    {
      "cell_type": "code",
      "source": [
        "help(\"keywords\")"
      ],
      "metadata": {
        "colab": {
          "base_uri": "https://localhost:8080/"
        },
        "id": "gOthD6uTiHza",
        "outputId": "06c54767-898c-4a0a-956d-32c3e70c66c7"
      },
      "execution_count": null,
      "outputs": [
        {
          "output_type": "stream",
          "name": "stdout",
          "text": [
            "\n",
            "Here is a list of the Python keywords.  Enter any keyword to get more help.\n",
            "\n",
            "False               class               from                or\n",
            "None                continue            global              pass\n",
            "True                def                 if                  raise\n",
            "and                 del                 import              return\n",
            "as                  elif                in                  try\n",
            "assert              else                is                  while\n",
            "async               except              lambda              with\n",
            "await               finally             nonlocal            yield\n",
            "break               for                 not                 \n",
            "\n"
          ]
        }
      ]
    },
    {
      "cell_type": "markdown",
      "source": [
        "# 4. Write a program that checks if a given word is a Python keyword."
      ],
      "metadata": {
        "id": "-BslwW_sj6aD"
      }
    },
    {
      "cell_type": "code",
      "source": [
        "import keyword\n",
        "\n",
        "word = input(\"Enter a word: \")\n",
        "\n",
        "if keyword.iskeyword(word):\n",
        "    print(f\"{word} is a Python keyword.\")\n",
        "else:\n",
        "    print(f\"{word} is not a Python keyword.\")"
      ],
      "metadata": {
        "colab": {
          "base_uri": "https://localhost:8080/"
        },
        "id": "PP_nRDpkeX7A",
        "outputId": "3f44fc9e-a67d-49c6-98e4-cb7271b9a35e"
      },
      "execution_count": null,
      "outputs": [
        {
          "output_type": "stream",
          "name": "stdout",
          "text": [
            "Enter a word: if\n",
            "if is a Python keyword.\n"
          ]
        }
      ]
    },
    {
      "cell_type": "markdown",
      "source": [
        "# 5. Create a list and tuple in Python, and demonstrate how attempting to change an element works differently for each.\n"
      ],
      "metadata": {
        "id": "vjikYu-ylkMk"
      }
    },
    {
      "cell_type": "code",
      "source": [
        "my_list = [10, 20, 30]\n",
        "my_tuple = (10, 20, 30)\n",
        "print(\"Original list:\", my_list)\n",
        "my_list[1] = 99\n",
        "print(\"Modified list:\", my_list)\n",
        "print(\"Original tuple:\", my_tuple)\n",
        "try:\n",
        "    my_tuple[1] = 99\n",
        "except TypeError as e:\n",
        "    print(\"Error when modifying tuple:\", e)"
      ],
      "metadata": {
        "colab": {
          "base_uri": "https://localhost:8080/"
        },
        "id": "rpEI65vkmC-0",
        "outputId": "6330ef4a-f8e4-4d10-b4a2-7f247d08ea26"
      },
      "execution_count": null,
      "outputs": [
        {
          "output_type": "stream",
          "name": "stdout",
          "text": [
            "Original list: [10, 20, 30]\n",
            "Modified list: [10, 99, 30]\n",
            "Original tuple: (10, 20, 30)\n",
            "Error when modifying tuple: 'tuple' object does not support item assignment\n"
          ]
        }
      ]
    },
    {
      "cell_type": "markdown",
      "source": [],
      "metadata": {
        "id": "cS1q2IqCj59S"
      }
    },
    {
      "cell_type": "markdown",
      "source": [
        "# 6. Write a function to demonstrate the behavior of mutable and immutable arguments"
      ],
      "metadata": {
        "id": "kwTo0D7QogP4"
      }
    },
    {
      "cell_type": "code",
      "source": [
        "def test_change(x, y):\n",
        "    x = x + 1\n",
        "    y.append(10)\n",
        "\n",
        "a = 5\n",
        "b = [1, 2, 3]\n",
        "\n",
        "test_change(a, b)\n",
        "\n",
        "print(\"a after function:\", a)\n",
        "print(\"b after function:\", b)"
      ],
      "metadata": {
        "colab": {
          "base_uri": "https://localhost:8080/"
        },
        "id": "PHkaNv65omft",
        "outputId": "9c5bb098-9a37-437c-b0e7-834fd4d0dd48"
      },
      "execution_count": null,
      "outputs": [
        {
          "output_type": "stream",
          "name": "stdout",
          "text": [
            "a after function: 5\n",
            "b after function: [1, 2, 3, 10]\n"
          ]
        }
      ]
    },
    {
      "cell_type": "markdown",
      "source": [
        "# 7. Write a program that performs basic arithmetic operations on two user-input numbers."
      ],
      "metadata": {
        "id": "VymlUjdTe769"
      }
    },
    {
      "cell_type": "code",
      "source": [
        "num1 = float(input(\"Enter the first number: \"))\n",
        "num2 = float(input(\"Enter the second number: \"))\n",
        "\n",
        "add = num1 + num2\n",
        "sub = num1 - num2\n",
        "mul = num1 * num2\n",
        "if num2 != 0:\n",
        "    print(\"Division:\", num1 / num2)\n",
        "    print(\"addition:\", num1+ num2)"
      ],
      "metadata": {
        "colab": {
          "base_uri": "https://localhost:8080/"
        },
        "id": "65Js7txpt8t-",
        "outputId": "5f7729e5-e25b-486d-af83-d93920f178ec"
      },
      "execution_count": null,
      "outputs": [
        {
          "output_type": "stream",
          "name": "stdout",
          "text": [
            "Enter the first number: 25\n",
            "Enter the second number: 5\n",
            "Division: 5.0\n",
            "addition: 30.0\n"
          ]
        }
      ]
    },
    {
      "cell_type": "markdown",
      "source": [
        "# 8.  Write a program to demonstrate the use of logical operators."
      ],
      "metadata": {
        "id": "q88SMlF6tjJy"
      }
    },
    {
      "cell_type": "code",
      "source": [
        "a = 23\n",
        "b = 42\n",
        "if a > 0 and b > 0:\n",
        "    print(\"Both a and b are positive.\")\n",
        "if a > 0 or b > 0:\n",
        "    print(\"At least one of a or b is positive.\")"
      ],
      "metadata": {
        "colab": {
          "base_uri": "https://localhost:8080/"
        },
        "id": "rFh33GsHvyWS",
        "outputId": "6a027aa8-1d15-4b24-d2f1-da293303f6dd"
      },
      "execution_count": null,
      "outputs": [
        {
          "output_type": "stream",
          "name": "stdout",
          "text": [
            "Both a and b are positive.\n",
            "At least one of a or b is positive.\n"
          ]
        }
      ]
    },
    {
      "cell_type": "markdown",
      "source": [
        "# 9. Write a Python program to convert user input from string to integer, float, and boolean types."
      ],
      "metadata": {
        "id": "FHu3nvkgwS7c"
      }
    },
    {
      "cell_type": "code",
      "source": [
        "s = input(\"Enter a value: \")\n",
        "\n",
        "print(\"As int:\", int(s) if s.isdigit() else \"Invalid\")\n",
        "print(\"As float:\", float(s) if s.replace('.', '', 1).isdigit() else \"Invalid\")\n",
        "print(\"As bool:\", bool(s))"
      ],
      "metadata": {
        "colab": {
          "base_uri": "https://localhost:8080/"
        },
        "id": "ZtGT8BSQwYIx",
        "outputId": "eb0be8df-1765-47ff-a2ca-96a0536a5baf"
      },
      "execution_count": null,
      "outputs": [
        {
          "output_type": "stream",
          "name": "stdout",
          "text": [
            "Enter a value: ayushi\n",
            "As int: Invalid\n",
            "As float: Invalid\n",
            "As bool: True\n"
          ]
        }
      ]
    },
    {
      "cell_type": "markdown",
      "source": [
        "# 10.  Write code to demonstrate type casting with list elements."
      ],
      "metadata": {
        "id": "XtBDnNtleYdF"
      }
    },
    {
      "cell_type": "code",
      "source": [
        "string_list = [\"10\", \"20\", \"30\"]\n",
        "int_list = [int(item) for item in string_list]\n",
        "float_list = [float(item) for item in string_list]\n",
        "print(\"Original List:\", string_list)\n",
        "print(\"Int List:\", int_list)\n",
        "print(\"Float List:\", float_list)\n"
      ],
      "metadata": {
        "colab": {
          "base_uri": "https://localhost:8080/"
        },
        "id": "H_VOJu866MwU",
        "outputId": "ceb8cdfb-7185-4600-884c-070d9e9ef170"
      },
      "execution_count": null,
      "outputs": [
        {
          "output_type": "stream",
          "name": "stdout",
          "text": [
            "Original List: ['10', '20', '30']\n",
            "Int List: [10, 20, 30]\n",
            "Float List: [10.0, 20.0, 30.0]\n"
          ]
        }
      ]
    },
    {
      "cell_type": "markdown",
      "source": [],
      "metadata": {
        "id": "hrNzqGLe5pU8"
      }
    },
    {
      "cell_type": "markdown",
      "source": [
        "# 11.  Write a program that checks if a number is positive, negative, or zero."
      ],
      "metadata": {
        "id": "i9MADxHa-Zsq"
      }
    },
    {
      "cell_type": "markdown",
      "source": [],
      "metadata": {
        "id": "-T1P7sL6-vNG"
      }
    },
    {
      "cell_type": "code",
      "source": [
        "num = float(input(\"Enter a number: \"))\n",
        "\n",
        "if num > 0:\n",
        "  print(\"The number is positive.\")\n",
        "elif num < 0:\n",
        "  print(\"The number is negative.\")\n",
        "else:\n",
        "  print(\"The number is zero\")"
      ],
      "metadata": {
        "colab": {
          "base_uri": "https://localhost:8080/"
        },
        "id": "RaCb2eoh_TrZ",
        "outputId": "cff7d6cb-ca6d-4f86-c3de-c31bd6bd55ef"
      },
      "execution_count": null,
      "outputs": [
        {
          "output_type": "stream",
          "name": "stdout",
          "text": [
            "Enter a number: 25.5\n",
            "The number is positive.\n"
          ]
        }
      ]
    },
    {
      "cell_type": "markdown",
      "source": [
        "# 12.  Write a for loop to print numbers from 1 to 10."
      ],
      "metadata": {
        "id": "KlQ_K9QH_69g"
      }
    },
    {
      "cell_type": "code",
      "source": [
        "for i in range(1,11):\n",
        "  print(i,end=\" \")"
      ],
      "metadata": {
        "colab": {
          "base_uri": "https://localhost:8080/"
        },
        "id": "97y242siABq7",
        "outputId": "8b0a5516-1c97-4e65-f838-b3319f6f9d1e"
      },
      "execution_count": 1,
      "outputs": [
        {
          "output_type": "stream",
          "name": "stdout",
          "text": [
            "1 2 3 4 5 6 7 8 9 10 "
          ]
        }
      ]
    },
    {
      "cell_type": "markdown",
      "source": [
        "# 13. Write a Python program to find the sum of all even numbers between 1 and 50."
      ],
      "metadata": {
        "id": "DbrcnngkAtcG"
      }
    },
    {
      "cell_type": "code",
      "source": [
        "total=0\n",
        "for i in range(1, 51):\n",
        "    if i % 2 == 0:\n",
        "        total += i\n",
        "\n",
        "print(\"Sum of even numbers from 1 to 50 is:\", total)"
      ],
      "metadata": {
        "colab": {
          "base_uri": "https://localhost:8080/"
        },
        "id": "66BqORJ4A49L",
        "outputId": "284a3982-2eae-4d66-9965-027dd65aa6fc"
      },
      "execution_count": null,
      "outputs": [
        {
          "output_type": "stream",
          "name": "stdout",
          "text": [
            "Sum of even numbers from 1 to 50 is: 650\n"
          ]
        }
      ]
    },
    {
      "cell_type": "markdown",
      "source": [
        "# 14.  Write a program to reverse a string using a while loop."
      ],
      "metadata": {
        "id": "DJpO9jJuA3MV"
      }
    },
    {
      "cell_type": "code",
      "source": [
        "s = input(\"Enter a string: \")\n",
        "reversed_str = \"\"\n",
        "i = len(s) - 1\n",
        "while i >= 0:\n",
        "    reversed_str += s[i]\n",
        "    i -= 1\n",
        "print(\"Reversed string:\", reversed_str)"
      ],
      "metadata": {
        "colab": {
          "base_uri": "https://localhost:8080/"
        },
        "id": "QbfIc2VgBp5q",
        "outputId": "e22477e8-cfae-45e1-e260-0c0640e53fd6"
      },
      "execution_count": 3,
      "outputs": [
        {
          "output_type": "stream",
          "name": "stdout",
          "text": [
            "Enter a string: ayushi\n",
            "Reversed string: ihsuya\n"
          ]
        }
      ]
    },
    {
      "cell_type": "markdown",
      "source": [
        "# 15. Write a Python program to calculate the factorial of a number provided by the user using a while loop."
      ],
      "metadata": {
        "id": "-8wL8d6RCc38"
      }
    },
    {
      "cell_type": "code",
      "source": [
        "num = int(input(\"Enter a number: \"))\n",
        "\n",
        "factorial = 1\n",
        "i = 1\n",
        "while i <= num:\n",
        "    factorial *= i\n",
        "    i += 1\n",
        "\n",
        "print(f\"The factorial of {num} is {factorial}\")"
      ],
      "metadata": {
        "colab": {
          "base_uri": "https://localhost:8080/"
        },
        "id": "bNhro-S8CjXH",
        "outputId": "eda917c9-caed-4fd4-f947-96a9f69029d5"
      },
      "execution_count": null,
      "outputs": [
        {
          "output_type": "stream",
          "name": "stdout",
          "text": [
            "Enter a number: 20\n",
            "The factorial of 20 is 2432902008176640000\n"
          ]
        }
      ]
    }
  ]
}